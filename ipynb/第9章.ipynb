{
 "cells": [
  {
   "cell_type": "markdown",
   "id": "2c6218c2",
   "metadata": {},
   "source": [
    "## 9.2\tKNN算法"
   ]
  },
  {
   "cell_type": "markdown",
   "id": "675b2347",
   "metadata": {},
   "source": [
    "### 9.2.2\t使用sklearn 实现KNN算法"
   ]
  },
  {
   "cell_type": "code",
   "execution_count": 38,
   "id": "0588f6da",
   "metadata": {},
   "outputs": [],
   "source": [
    "import numpy as np\n",
    "data_x = [[3.3423,3.1234], [3.1243,5.1234], [2.5634,4.5672],\n",
    "            [2.2123,4.5332], [4.3495,4.4321], [4.4523,4.6712],\n",
    "            [3.6323,5.9381], [5.2931,3.4592]]\n",
    "data_y = [0, 0, 0, 0, 1, 1, 1, 1]\n",
    "X_train = np.array(data_x)\n",
    "y_train = np.array(data_y)"
   ]
  },
  {
   "cell_type": "code",
   "execution_count": 39,
   "id": "d89b44fc",
   "metadata": {},
   "outputs": [
    {
     "data": {
      "text/plain": [
       "KNeighborsClassifier(n_neighbors=3)"
      ]
     },
     "execution_count": 39,
     "metadata": {},
     "output_type": "execute_result"
    }
   ],
   "source": [
    "from sklearn.neighbors import KNeighborsClassifier\n",
    "# 创建KNeighborsClassifier类的对象，并指定K值为3\n",
    "model = KNeighborsClassifier(n_neighbors=3)\n",
    "# 拟合从训练数据集得到的分类器\n",
    "model.fit(X_train, y_train)"
   ]
  },
  {
   "cell_type": "code",
   "execution_count": 40,
   "id": "4052f9e8",
   "metadata": {},
   "outputs": [
    {
     "data": {
      "text/plain": [
       "array([1])"
      ]
     },
     "execution_count": 40,
     "metadata": {},
     "output_type": "execute_result"
    }
   ],
   "source": [
    "x = np.array([4.1212,4.9342])\n",
    "x_test = x.reshape(1, -1) \n",
    "# 预测测试数据集的标签   \n",
    "model.predict(x_test)"
   ]
  },
  {
   "cell_type": "markdown",
   "id": "182e3b71",
   "metadata": {},
   "source": [
    "### 9.2.3\t超参数"
   ]
  },
  {
   "cell_type": "code",
   "execution_count": 41,
   "id": "945802e4",
   "metadata": {},
   "outputs": [
    {
     "data": {
      "text/plain": [
       "(455, 30)"
      ]
     },
     "execution_count": 41,
     "metadata": {},
     "output_type": "execute_result"
    }
   ],
   "source": [
    "from sklearn.datasets import load_breast_cancer\n",
    "from sklearn.model_selection import train_test_split\n",
    "from sklearn.neighbors import KNeighborsClassifier\n",
    "# 获取肿瘤数据集\n",
    "data = load_breast_cancer()\n",
    "X = data[\"data\"]\n",
    "y = data[\"target\"]\n",
    "# 将数据集分割为训练数据集和测试数据集\n",
    "X_train, X_test, y_train, y_test = train_test_split(X, y, \n",
    "                                         test_size=0.2, shuffle=False)\n",
    "X_train.shape"
   ]
  },
  {
   "cell_type": "code",
   "execution_count": 42,
   "id": "aa83e35c",
   "metadata": {},
   "outputs": [
    {
     "data": {
      "text/plain": [
       "(114, 30)"
      ]
     },
     "execution_count": 42,
     "metadata": {},
     "output_type": "execute_result"
    }
   ],
   "source": [
    "X_test.shape"
   ]
  },
  {
   "cell_type": "code",
   "execution_count": 43,
   "id": "21fe6184",
   "metadata": {},
   "outputs": [
    {
     "data": {
      "text/plain": [
       "0.9298245614035088"
      ]
     },
     "execution_count": 43,
     "metadata": {},
     "output_type": "execute_result"
    }
   ],
   "source": [
    "model = KNeighborsClassifier(n_neighbors= 3)\n",
    "model.fit(X_train, y_train)\n",
    "model.score(X_test,y_test)"
   ]
  },
  {
   "cell_type": "code",
   "execution_count": 44,
   "id": "347845e9",
   "metadata": {},
   "outputs": [
    {
     "name": "stdout",
     "output_type": "stream",
     "text": [
      "best_k= 5\n",
      "best_score= 0.9385964912280702\n"
     ]
    }
   ],
   "source": [
    "best_score = 0.0     # 最高准确率\n",
    "best_k = -1           # 最好k值\n",
    "for k in range(1, 11):\n",
    "    knn_model = KNeighborsClassifier(n_neighbors=k)\n",
    "    knn_model.fit(X_train, y_train)\n",
    "    score = knn_model.score(X_test, y_test)\n",
    "    if score > best_score:\n",
    "        best_k = k\n",
    "        best_score = score\n",
    "print(\"best_k=\", best_k)\n",
    "print(\"best_score=\", best_score)"
   ]
  },
  {
   "cell_type": "code",
   "execution_count": 45,
   "id": "ccd54e2d",
   "metadata": {},
   "outputs": [
    {
     "name": "stdout",
     "output_type": "stream",
     "text": [
      "best_k= 5\n",
      "best_score= 0.9385964912280702\n",
      "best_weight= distance\n"
     ]
    }
   ],
   "source": [
    "best_score = 0.0\n",
    "best_k = -1\n",
    "best_weight = \"\"\n",
    "for w in [\"uniform\", \"distance\"]:\n",
    "    for k in range(1, 11):\n",
    "        knn_model=KNeighborsClassifier(n_neighbors=k, weights=w)\n",
    "        knn_model.fit(X_train, y_train)\n",
    "        score=knn_model.score(X_test, y_test)\n",
    "        if score > best_score:\n",
    "            best_k = k\n",
    "            best_score = score\n",
    "            best_weight = w\n",
    "print(\"best_k=\", best_k)\n",
    "print(\"best_score=\", best_score)\n",
    "print(\"best_weight=\", w)"
   ]
  },
  {
   "cell_type": "code",
   "execution_count": 48,
   "id": "dd7b5ce9",
   "metadata": {},
   "outputs": [
    {
     "name": "stdout",
     "output_type": "stream",
     "text": [
      "best_k= 9\n",
      "best_score= 0.956140350877193\n",
      "best_p= 1\n"
     ]
    }
   ],
   "source": [
    "best_score = 0.0\n",
    "best_k = -1\n",
    "best_p = -1\n",
    "for k in range(1, 11):\n",
    "    for p in range(1, 6):\n",
    "        knn_model = KNeighborsClassifier(n_neighbors=k,\n",
    "                        weights=\"distance\", p=p)\n",
    "        knn_model.fit(X_train, y_train)\n",
    "        score=knn_model.score(X_test, y_test)\n",
    "        if score > best_score:\n",
    "            best_k = k\n",
    "            best_score = score\n",
    "            best_p = p\n",
    "print(\"best_k=\", best_k)\n",
    "print(\"best_score=\", best_score)\n",
    "print(\"best_p=\", best_p)"
   ]
  },
  {
   "cell_type": "markdown",
   "id": "2cc5cd48",
   "metadata": {},
   "source": [
    "### 9.2.4\t网格搜索与交叉验证"
   ]
  },
  {
   "cell_type": "code",
   "execution_count": 50,
   "id": "b2bcb44b",
   "metadata": {},
   "outputs": [],
   "source": [
    "from sklearn.datasets import load_breast_cancer\n",
    "from sklearn.model_selection import train_test_split\n",
    "data = load_breast_cancer()\n",
    "X = data[\"data\"]\n",
    "y = data[\"target\"]\n",
    "X_train, X_test, y_train, y_test = train_test_split(X, y, test_size= 0.2)"
   ]
  },
  {
   "cell_type": "code",
   "execution_count": 51,
   "id": "3b722820",
   "metadata": {},
   "outputs": [],
   "source": [
    "from sklearn.neighbors import KNeighborsClassifier\n",
    "model = KNeighborsClassifier()"
   ]
  },
  {
   "cell_type": "code",
   "execution_count": 52,
   "id": "9b915890",
   "metadata": {},
   "outputs": [],
   "source": [
    "param_grid = [ \n",
    "    {\n",
    "        \"weights\": ['uniform'], \n",
    "        \"n_neighbors\": [i for i in range(1, 11)]\n",
    "    }, \n",
    "    {\n",
    "        \"weights\": ['distance'], \n",
    "        \"n_neighbors\": [i for i in range(1, 11)],\n",
    "        'p':[i for i in range(1, 6)]\n",
    "    }\n",
    "]"
   ]
  },
  {
   "cell_type": "code",
   "execution_count": 53,
   "id": "0fcfc358",
   "metadata": {},
   "outputs": [
    {
     "data": {
      "text/plain": [
       "KNeighborsClassifier(p=1, weights='distance')"
      ]
     },
     "execution_count": 53,
     "metadata": {},
     "output_type": "execute_result"
    }
   ],
   "source": [
    "from sklearn.model_selection import GridSearchCV\n",
    "grid_search = GridSearchCV(model, param_grid)\n",
    "grid_search.fit(X_train, y_train)\n",
    "grid_search.best_estimator_"
   ]
  },
  {
   "cell_type": "code",
   "execution_count": 54,
   "id": "4fba5593",
   "metadata": {},
   "outputs": [
    {
     "data": {
      "text/plain": [
       "0.945054945054945"
      ]
     },
     "execution_count": 54,
     "metadata": {},
     "output_type": "execute_result"
    }
   ],
   "source": [
    "grid_search.best_score_"
   ]
  },
  {
   "cell_type": "markdown",
   "id": "bdab84ff",
   "metadata": {},
   "source": [
    "### 9.2.5\t归一化"
   ]
  },
  {
   "cell_type": "markdown",
   "id": "1a1c7766",
   "metadata": {},
   "source": [
    "#### 1.\t最值归一化"
   ]
  },
  {
   "cell_type": "code",
   "execution_count": 55,
   "id": "8d5053a5",
   "metadata": {},
   "outputs": [
    {
     "data": {
      "text/plain": [
       "array([727, 935, 498, 556, 891, 848, 991, 954, 687, 386])"
      ]
     },
     "execution_count": 55,
     "metadata": {},
     "output_type": "execute_result"
    }
   ],
   "source": [
    "import numpy as np\n",
    "data = np.random.randint(0, 1000, size = 10)\n",
    "data"
   ]
  },
  {
   "cell_type": "code",
   "execution_count": 56,
   "id": "f74ce52e",
   "metadata": {},
   "outputs": [
    {
     "data": {
      "text/plain": [
       "array([0.56363636, 0.90743802, 0.18512397, 0.28099174, 0.83471074,\n",
       "       0.76363636, 1.        , 0.93884298, 0.49752066, 0.        ])"
      ]
     },
     "execution_count": 56,
     "metadata": {},
     "output_type": "execute_result"
    }
   ],
   "source": [
    "data_scale = (data - np.min(data)) / (np.max(data) - np.min(data))\n",
    "data_scale"
   ]
  },
  {
   "cell_type": "code",
   "execution_count": 57,
   "id": "0bc1a393",
   "metadata": {},
   "outputs": [
    {
     "data": {
      "text/plain": [
       "array([10000000,      100,       20,      320,      111])"
      ]
     },
     "execution_count": 57,
     "metadata": {},
     "output_type": "execute_result"
    }
   ],
   "source": [
    "import numpy as np\n",
    "data = np.array([10000000, 100, 20, 320, 111])\n",
    "data"
   ]
  },
  {
   "cell_type": "code",
   "execution_count": 58,
   "id": "ee43308e",
   "metadata": {},
   "outputs": [
    {
     "data": {
      "text/plain": [
       "array([1.0000000e+00, 8.0000160e-06, 0.0000000e+00, 3.0000060e-05,\n",
       "       9.1000182e-06])"
      ]
     },
     "execution_count": 58,
     "metadata": {},
     "output_type": "execute_result"
    }
   ],
   "source": [
    "data_scale = (data - np.min(data)) / (np.max(data) - np.min(data))\n",
    "data_scale"
   ]
  },
  {
   "cell_type": "markdown",
   "id": "8e69811d",
   "metadata": {},
   "source": [
    "#### 2.\t均值方差归一化"
   ]
  },
  {
   "cell_type": "code",
   "execution_count": 59,
   "id": "f7c274f1",
   "metadata": {},
   "outputs": [
    {
     "data": {
      "text/plain": [
       "array([10000000,      100,       20,      320,      111])"
      ]
     },
     "execution_count": 59,
     "metadata": {},
     "output_type": "execute_result"
    }
   ],
   "source": [
    "import numpy as np \n",
    "data = np.array( [10000000, 100, 20, 320, 111])\n",
    "data"
   ]
  },
  {
   "cell_type": "code",
   "execution_count": 60,
   "id": "37784681",
   "metadata": {},
   "outputs": [
    {
     "data": {
      "text/plain": [
       "array([ 2.        , -0.50000944, -0.50002944, -0.49995444, -0.50000669])"
      ]
     },
     "execution_count": 60,
     "metadata": {},
     "output_type": "execute_result"
    }
   ],
   "source": [
    "data_scale = (data - np.mean(data)) / (np.std(data))\n",
    "data_scale"
   ]
  },
  {
   "cell_type": "code",
   "execution_count": 61,
   "id": "adedb5e9",
   "metadata": {},
   "outputs": [
    {
     "name": "stdout",
     "output_type": "stream",
     "text": [
      "原始数据均值： 2000110.2\n",
      "原始数据标准差： 3999944.901230536\n",
      "进行均值方差归一化数据均值： 0.0\n",
      "进行均值方差归一化数据标准差： 1.0\n"
     ]
    }
   ],
   "source": [
    "print(\"原始数据均值：\", np.mean(data))\n",
    "print(\"原始数据标准差：\", np.std(data))\n",
    "print(\"进行均值方差归一化数据均值：\", np.mean(data_scale))\n",
    "print(\"进行均值方差归一化数据标准差：\", np.std(data_scale))"
   ]
  },
  {
   "cell_type": "markdown",
   "id": "2f3aaa5d",
   "metadata": {},
   "source": [
    "### 9.2.6\t使用sklearn实现归一化"
   ]
  },
  {
   "cell_type": "code",
   "execution_count": 62,
   "id": "3042cfbd",
   "metadata": {},
   "outputs": [
    {
     "name": "stdout",
     "output_type": "stream",
     "text": [
      "[[1.199e+01 2.489e+01 7.761e+01 ... 1.202e-01 2.599e-01 8.251e-02]\n",
      " [1.585e+01 2.395e+01 1.037e+02 ... 1.119e-01 2.809e-01 6.287e-02]\n",
      " [1.114e+01 1.407e+01 7.124e+01 ... 3.922e-02 2.576e-01 7.018e-02]\n",
      " ...\n",
      " [1.128e+01 1.339e+01 7.300e+01 ... 8.611e-02 2.102e-01 6.784e-02]\n",
      " [1.025e+01 1.618e+01 6.652e+01 ... 9.744e-02 2.608e-01 9.702e-02]\n",
      " [1.113e+01 1.662e+01 7.047e+01 ... 4.044e-02 2.383e-01 7.083e-02]]\n"
     ]
    }
   ],
   "source": [
    "from sklearn.datasets import load_breast_cancer  \n",
    "from sklearn.model_selection import train_test_split\n",
    "data = load_breast_cancer()\n",
    "X = data[\"data\"]\n",
    "y = data[\"target\"]\n",
    "X_train, X_test, y_train, y_test = train_test_split(X, y, test_size= 0.2)\n",
    "print(X_train)"
   ]
  },
  {
   "cell_type": "code",
   "execution_count": 63,
   "id": "81381ce8",
   "metadata": {},
   "outputs": [
    {
     "name": "stdout",
     "output_type": "stream",
     "text": [
      "[[-0.61812653  1.33600314 -0.60414544 ...  0.07267722 -0.50891521\n",
      "  -0.10869358]\n",
      " [ 0.51698091  1.1165345   0.5065806  ... -0.05676805 -0.16862222\n",
      "  -1.15874444]\n",
      " [-0.86808542 -1.19022096 -0.87533459 ... -1.1902719  -0.5461854\n",
      "  -0.76791594]\n",
      " ...\n",
      " [-0.82691572 -1.3489855  -0.80040634 ... -0.45898412 -1.31427531\n",
      "  -0.89302383]\n",
      " [-1.12980708 -0.69758391 -1.07627851 ... -0.28228354 -0.49433123\n",
      "   0.66708229]\n",
      " [-0.87102611 -0.59485391 -0.90811569 ... -1.17124501 -0.85893087\n",
      "  -0.73316374]]\n"
     ]
    }
   ],
   "source": [
    "from sklearn.preprocessing import StandardScaler\n",
    "ssc = StandardScaler()\n",
    "ssc.fit(X_train)\n",
    "X_train_ssc = ssc.transform(X_train)\n",
    "print(X_train_ssc)"
   ]
  },
  {
   "cell_type": "code",
   "execution_count": 64,
   "id": "33ca832d",
   "metadata": {},
   "outputs": [
    {
     "name": "stdout",
     "output_type": "stream",
     "text": [
      "[[ 0.15187827 -0.71909026  0.22067981 ...  1.2855905   1.18332163\n",
      "   1.67388678]\n",
      " [ 1.47946262  1.96190113  1.41828809 ...  0.72694558 -0.45123674\n",
      "  -1.01975621]\n",
      " [-0.83750018  0.36441922 -0.76285967 ...  0.44132261  0.18128733\n",
      "   0.97312344]\n",
      " ...\n",
      " [-0.27718891 -0.25836721 -0.24497501 ...  1.37099737  1.6915999\n",
      "   2.43908813]\n",
      " [ 0.17711752 -0.00369618  0.10518564 ... -0.74681293 -0.33183168\n",
      "  -1.39027476]\n",
      " [ 0.3184573   3.19126765  0.40679461 ...  1.26738904  1.06553016\n",
      "   2.60689544]]\n"
     ]
    }
   ],
   "source": [
    "X_test_ssc = ssc.fit_transform(X_test)\n",
    "print(X_test_ssc)"
   ]
  },
  {
   "cell_type": "code",
   "execution_count": 65,
   "id": "a0456187",
   "metadata": {},
   "outputs": [
    {
     "data": {
      "text/plain": [
       "0.9604395604395604"
      ]
     },
     "execution_count": 65,
     "metadata": {},
     "output_type": "execute_result"
    }
   ],
   "source": [
    "from sklearn.neighbors import KNeighborsClassifier\n",
    "model = KNeighborsClassifier()\n",
    "from sklearn.model_selection import GridSearchCV\n",
    "param_grid = [ {\"weights\": ['uniform', 'distance'], \n",
    "               \"n_neighbors\": [i for i in range(1, 11)]}, \n",
    "               ]\n",
    "grid_search = GridSearchCV(model, param_grid)\n",
    "grid_search.fit(X_train_ssc, y_train)\n",
    "grid_search.best_score_"
   ]
  },
  {
   "cell_type": "markdown",
   "id": "eeb19629",
   "metadata": {},
   "source": [
    "## 9.3\t案例：预测签到位置"
   ]
  },
  {
   "cell_type": "markdown",
   "id": "9651d6d6",
   "metadata": {},
   "source": [
    "### 1．获取数据集"
   ]
  },
  {
   "cell_type": "code",
   "execution_count": 24,
   "id": "0f894a1f",
   "metadata": {},
   "outputs": [
    {
     "data": {
      "text/html": [
       "<div>\n",
       "<style scoped>\n",
       "    .dataframe tbody tr th:only-of-type {\n",
       "        vertical-align: middle;\n",
       "    }\n",
       "\n",
       "    .dataframe tbody tr th {\n",
       "        vertical-align: top;\n",
       "    }\n",
       "\n",
       "    .dataframe thead th {\n",
       "        text-align: right;\n",
       "    }\n",
       "</style>\n",
       "<table border=\"1\" class=\"dataframe\">\n",
       "  <thead>\n",
       "    <tr style=\"text-align: right;\">\n",
       "      <th></th>\n",
       "      <th>row_id</th>\n",
       "      <th>x</th>\n",
       "      <th>y</th>\n",
       "      <th>accuracy</th>\n",
       "      <th>time</th>\n",
       "      <th>place_id</th>\n",
       "    </tr>\n",
       "  </thead>\n",
       "  <tbody>\n",
       "    <tr>\n",
       "      <th>0</th>\n",
       "      <td>0</td>\n",
       "      <td>0.7941</td>\n",
       "      <td>9.0809</td>\n",
       "      <td>54</td>\n",
       "      <td>470702</td>\n",
       "      <td>8523065625</td>\n",
       "    </tr>\n",
       "    <tr>\n",
       "      <th>1</th>\n",
       "      <td>1</td>\n",
       "      <td>5.9567</td>\n",
       "      <td>4.7968</td>\n",
       "      <td>13</td>\n",
       "      <td>186555</td>\n",
       "      <td>1757726713</td>\n",
       "    </tr>\n",
       "    <tr>\n",
       "      <th>2</th>\n",
       "      <td>2</td>\n",
       "      <td>8.3078</td>\n",
       "      <td>7.0407</td>\n",
       "      <td>74</td>\n",
       "      <td>322648</td>\n",
       "      <td>1137537235</td>\n",
       "    </tr>\n",
       "    <tr>\n",
       "      <th>3</th>\n",
       "      <td>3</td>\n",
       "      <td>7.3665</td>\n",
       "      <td>2.5165</td>\n",
       "      <td>65</td>\n",
       "      <td>704587</td>\n",
       "      <td>6567393236</td>\n",
       "    </tr>\n",
       "    <tr>\n",
       "      <th>4</th>\n",
       "      <td>4</td>\n",
       "      <td>4.0961</td>\n",
       "      <td>1.1307</td>\n",
       "      <td>31</td>\n",
       "      <td>472130</td>\n",
       "      <td>7440663949</td>\n",
       "    </tr>\n",
       "  </tbody>\n",
       "</table>\n",
       "</div>"
      ],
      "text/plain": [
       "   row_id       x       y  accuracy    time    place_id\n",
       "0       0  0.7941  9.0809        54  470702  8523065625\n",
       "1       1  5.9567  4.7968        13  186555  1757726713\n",
       "2       2  8.3078  7.0407        74  322648  1137537235\n",
       "3       3  7.3665  2.5165        65  704587  6567393236\n",
       "4       4  4.0961  1.1307        31  472130  7440663949"
      ]
     },
     "execution_count": 24,
     "metadata": {},
     "output_type": "execute_result"
    }
   ],
   "source": [
    "import pandas as pd\n",
    "import warnings\n",
    "warnings.filterwarnings('ignore')   # 过滤警告信息\n",
    "all_data = pd.read_csv(r'C:\\Users\\itcast\\Desktop\\train.csv')\n",
    "all_data.head()"
   ]
  },
  {
   "cell_type": "code",
   "execution_count": 25,
   "id": "0a76367d",
   "metadata": {},
   "outputs": [
    {
     "name": "stdout",
     "output_type": "stream",
     "text": [
      "<class 'pandas.core.frame.DataFrame'>\n",
      "RangeIndex: 29118021 entries, 0 to 29118020\n",
      "Data columns (total 6 columns):\n",
      " #   Column    Dtype  \n",
      "---  ------    -----  \n",
      " 0   row_id    int64  \n",
      " 1   x         float64\n",
      " 2   y         float64\n",
      " 3   accuracy  int64  \n",
      " 4   time      int64  \n",
      " 5   place_id  int64  \n",
      "dtypes: float64(2), int64(4)\n",
      "memory usage: 1.3 GB\n"
     ]
    }
   ],
   "source": [
    "all_data.info()"
   ]
  },
  {
   "cell_type": "markdown",
   "id": "490c9e8d",
   "metadata": {},
   "source": [
    "### 2.处理数据"
   ]
  },
  {
   "cell_type": "code",
   "execution_count": 26,
   "id": "8cb7f16e",
   "metadata": {},
   "outputs": [
    {
     "data": {
      "text/plain": [
       "(71664, 6)"
      ]
     },
     "execution_count": 26,
     "metadata": {},
     "output_type": "execute_result"
    }
   ],
   "source": [
    "# 缩小数据范围,区域限定在2.0-2.5*2.0-2.5大小的地方\n",
    "signin_data = all_data.query('x>2.0 & x<2.5 & y>2.0 & y<2.5')\n",
    "signin_data.shape"
   ]
  },
  {
   "cell_type": "code",
   "execution_count": 27,
   "id": "39658e67",
   "metadata": {},
   "outputs": [
    {
     "name": "stdout",
     "output_type": "stream",
     "text": [
      "<class 'pandas.core.frame.DataFrame'>\n",
      "Int64Index: 71664 entries, 163 to 29117203\n",
      "Data columns (total 6 columns):\n",
      " #   Column    Non-Null Count  Dtype         \n",
      "---  ------    --------------  -----         \n",
      " 0   row_id    71664 non-null  int64         \n",
      " 1   x         71664 non-null  float64       \n",
      " 2   y         71664 non-null  float64       \n",
      " 3   accuracy  71664 non-null  int64         \n",
      " 4   time      71664 non-null  datetime64[ns]\n",
      " 5   place_id  71664 non-null  int64         \n",
      "dtypes: datetime64[ns](1), float64(2), int64(3)\n",
      "memory usage: 3.8 MB\n"
     ]
    }
   ],
   "source": [
    "# 选取时间特征\n",
    "signin_data['time'] = pd.to_datetime(signin_data['time'], unit='s')\n",
    "signin_data.info()"
   ]
  },
  {
   "cell_type": "code",
   "execution_count": 28,
   "id": "b47d480d",
   "metadata": {
    "scrolled": false
   },
   "outputs": [
    {
     "name": "stdout",
     "output_type": "stream",
     "text": [
      "      row_id       x       y  accuracy                time    place_id  day  \\\n",
      "163      163  2.1663  2.3755        84 1970-01-08 18:02:17  3869813743    8   \n",
      "310      310  2.3695  2.2034         3 1970-01-03 17:11:59  2636621520    3   \n",
      "658      658  2.3236  2.1768        66 1970-01-06 19:32:23  7877745055    6   \n",
      "1368    1368  2.2613  2.3392        73 1970-01-04 16:50:22  9775192577    4   \n",
      "1627    1627  2.3331  2.0011        66 1970-01-07 21:18:04  6731326909    7   \n",
      "\n",
      "      hour  weekday  \n",
      "163     18        3  \n",
      "310     17        5  \n",
      "658     19        1  \n",
      "1368    16        6  \n",
      "1627    21        2  \n"
     ]
    }
   ],
   "source": [
    "# 获取天、小时、星期，并给所有样本增加这些特征\n",
    "signin_data['day'] = signin_data['time'].dt.day\n",
    "signin_data['hour'] = signin_data['time'].dt.hour\n",
    "signin_data['weekday'] = signin_data['time'].dt.weekday\n",
    "print(signin_data.head())"
   ]
  },
  {
   "cell_type": "code",
   "execution_count": 29,
   "id": "78b82ad3",
   "metadata": {},
   "outputs": [
    {
     "name": "stdout",
     "output_type": "stream",
     "text": [
      "            row_id     x     y  accuracy  time   day  hour  weekday\n",
      "place_id                                                           \n",
      "1008823061       4     4     4         4     4     4     4        4\n",
      "1025585791      21    21    21        21    21    21    21       21\n",
      "1026507711     220   220   220       220   220   220   220      220\n",
      "1032417180      10    10    10        10    10    10    10       10\n",
      "1040557418     123   123   123       123   123   123   123      123\n",
      "...            ...   ...   ...       ...   ...   ...   ...      ...\n",
      "9966115681      15    15    15        15    15    15    15       15\n",
      "9970566102       5     5     5         5     5     5     5        5\n",
      "9983648790    1056  1056  1056      1056  1056  1056  1056     1056\n",
      "9995108787      23    23    23        23    23    23    23       23\n",
      "9998968845      99    99    99        99    99    99    99       99\n",
      "\n",
      "[929 rows x 8 columns]\n"
     ]
    }
   ],
   "source": [
    "# 去掉签到比较少的地方\n",
    "place_count = signin_data.groupby('place_id').count()\n",
    "place_count = place_count[place_count['x'] > 3]  # 筛选出x值大于3的数据\n",
    "place_count"
   ]
  },
  {
   "cell_type": "code",
   "execution_count": 30,
   "id": "d55b2f6c",
   "metadata": {},
   "outputs": [
    {
     "name": "stdout",
     "output_type": "stream",
     "text": [
      "            row_id       x       y  accuracy                time    place_id  \\\n",
      "163            163  2.1663  2.3755        84 1970-01-08 18:02:17  3869813743   \n",
      "310            310  2.3695  2.2034         3 1970-01-03 17:11:59  2636621520   \n",
      "658            658  2.3236  2.1768        66 1970-01-06 19:32:23  7877745055   \n",
      "1368          1368  2.2613  2.3392        73 1970-01-04 16:50:22  9775192577   \n",
      "1627          1627  2.3331  2.0011        66 1970-01-07 21:18:04  6731326909   \n",
      "...            ...     ...     ...       ...                 ...         ...   \n",
      "29116142  29116142  2.0804  2.0657       168 1970-01-03 12:31:26  1247398579   \n",
      "29116267  29116267  2.4309  2.4646        33 1970-01-04 15:19:20  1951613663   \n",
      "29116295  29116295  2.1797  2.1707        89 1970-01-01 20:49:14  4724115005   \n",
      "29116475  29116475  2.3924  2.2704        62 1970-01-03 09:17:37  2819110495   \n",
      "29117203  29117203  2.4942  2.2430        11 1970-01-02 20:34:43  2634419689   \n",
      "\n",
      "          day  hour  weekday  \n",
      "163         8    18        3  \n",
      "310         3    17        5  \n",
      "658         6    19        1  \n",
      "1368        4    16        6  \n",
      "1627        7    21        2  \n",
      "...       ...   ...      ...  \n",
      "29116142    3    12        5  \n",
      "29116267    4    15        6  \n",
      "29116295    1    20        3  \n",
      "29116475    3     9        5  \n",
      "29117203    2    20        4  \n",
      "\n",
      "[69264 rows x 9 columns]\n"
     ]
    }
   ],
   "source": [
    "signin_data = signin_data[signin_data['place_id'].isin(place_count.index)]\n",
    "signin_data"
   ]
  },
  {
   "cell_type": "code",
   "execution_count": 31,
   "id": "58a7b656",
   "metadata": {},
   "outputs": [],
   "source": [
    "# 确定特征值和目标值\n",
    "x = signin_data[[\"x\", \"y\", \"accuracy\", \"day\", \"hour\", \"weekday\"]]\n",
    "y = signin_data[\"place_id\"]"
   ]
  },
  {
   "cell_type": "code",
   "execution_count": 32,
   "id": "31bd2318",
   "metadata": {},
   "outputs": [],
   "source": [
    "# 分割数据集\n",
    "from sklearn.model_selection import train_test_split\n",
    "x_train, x_test, y_train, y_test = train_test_split(x, y, test_size=0.2, random_state=22)"
   ]
  },
  {
   "cell_type": "markdown",
   "id": "aa98119a",
   "metadata": {},
   "source": [
    "### 3.建立特征工程"
   ]
  },
  {
   "cell_type": "code",
   "execution_count": 36,
   "id": "5e0d990f",
   "metadata": {},
   "outputs": [],
   "source": [
    "from sklearn.preprocessing import StandardScaler\n",
    "# 创建一个转换器\n",
    "scaler = StandardScaler()\n",
    "x_train = scaler.fit_transform(x_train)\n",
    "x_test = scaler.transform(x_test)"
   ]
  },
  {
   "cell_type": "markdown",
   "id": "456e405e",
   "metadata": {},
   "source": [
    "### 4.建立机器学习模型"
   ]
  },
  {
   "cell_type": "code",
   "execution_count": 37,
   "id": "e8cc6de4",
   "metadata": {},
   "outputs": [
    {
     "data": {
      "text/plain": [
       "GridSearchCV(cv=5, estimator=KNeighborsClassifier(),\n",
       "             param_grid={'n_neighbors': [1, 3, 5, 7, 9]})"
      ]
     },
     "execution_count": 37,
     "metadata": {},
     "output_type": "execute_result"
    }
   ],
   "source": [
    "from sklearn.neighbors import KNeighborsClassifier\n",
    "from sklearn.model_selection import GridSearchCV\n",
    "estimator = KNeighborsClassifier()\n",
    "# 进行网格搜索和交叉验证\n",
    "param_dict ={\"n_neighbors\": [1,3,5,7,9]}\n",
    "estimator = GridSearchCV(estimator, param_grid=param_dict, cv=5)\n",
    "# 拟合从训练数据集得到的分类器\n",
    "estimator.fit(x_train, y_train)"
   ]
  },
  {
   "cell_type": "markdown",
   "id": "3ced5211",
   "metadata": {},
   "source": [
    "### 5.模型评估"
   ]
  },
  {
   "cell_type": "code",
   "execution_count": 15,
   "id": "f32cb63c",
   "metadata": {},
   "outputs": [
    {
     "data": {
      "text/plain": [
       "array([9983648790, 9216778377, 8914246980, ..., 8980163153, 6232319657,\n",
       "       7243158436], dtype=int64)"
      ]
     },
     "execution_count": 15,
     "metadata": {},
     "output_type": "execute_result"
    }
   ],
   "source": [
    "# 预测结果\n",
    "estimator.predict(x_test)"
   ]
  },
  {
   "cell_type": "code",
   "execution_count": 16,
   "id": "b7c52b64",
   "metadata": {},
   "outputs": [
    {
     "data": {
      "text/plain": [
       "0.4383166101205515"
      ]
     },
     "execution_count": 16,
     "metadata": {},
     "output_type": "execute_result"
    }
   ],
   "source": [
    "# 准确率输出\n",
    "estimator.score(x_test,y_test)"
   ]
  },
  {
   "cell_type": "code",
   "execution_count": 17,
   "id": "1422788a",
   "metadata": {},
   "outputs": [
    {
     "data": {
      "text/plain": [
       "0.436086741795671"
      ]
     },
     "execution_count": 17,
     "metadata": {},
     "output_type": "execute_result"
    }
   ],
   "source": [
    "# 最好的结果\n",
    "estimator.best_score_"
   ]
  }
 ],
 "metadata": {
  "kernelspec": {
   "display_name": "Python 3 (ipykernel)",
   "language": "python",
   "name": "python3"
  },
  "language_info": {
   "codemirror_mode": {
    "name": "ipython",
    "version": 3
   },
   "file_extension": ".py",
   "mimetype": "text/x-python",
   "name": "python",
   "nbconvert_exporter": "python",
   "pygments_lexer": "ipython3",
   "version": "3.11.5"
  },
  "toc": {
   "base_numbering": 1,
   "nav_menu": {},
   "number_sections": true,
   "sideBar": true,
   "skip_h1_title": false,
   "title_cell": "Table of Contents",
   "title_sidebar": "Contents",
   "toc_cell": false,
   "toc_position": {},
   "toc_section_display": true,
   "toc_window_display": false
  }
 },
 "nbformat": 4,
 "nbformat_minor": 5
}

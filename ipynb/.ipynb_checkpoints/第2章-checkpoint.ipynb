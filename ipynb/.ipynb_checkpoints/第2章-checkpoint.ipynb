{
 "cells": [
  {
   "cell_type": "markdown",
   "id": "a74baf79",
   "metadata": {},
   "source": [
    "## 2.2 创建数组"
   ]
  },
  {
   "cell_type": "code",
   "execution_count": 1,
   "id": "623c55a1",
   "metadata": {},
   "outputs": [
    {
     "data": {
      "text/plain": [
       "array([1, 2, 3])"
      ]
     },
     "execution_count": 1,
     "metadata": {},
     "output_type": "execute_result"
    }
   ],
   "source": [
    "import numpy as np\n",
    "arr1d = np.array([1, 2, 3])                 # 创建一维数组\n",
    "arr1d"
   ]
  },
  {
   "cell_type": "code",
   "execution_count": 3,
   "id": "a4bdeb53",
   "metadata": {},
   "outputs": [
    {
     "data": {
      "text/plain": [
       "array([[1, 2, 3],\n",
       "       [4, 5, 6]])"
      ]
     },
     "execution_count": 3,
     "metadata": {},
     "output_type": "execute_result"
    }
   ],
   "source": [
    "arr2d = np.array([[1, 2, 3], [4, 5, 6]])  # 创建二维数组\n",
    "arr2d"
   ]
  },
  {
   "cell_type": "code",
   "execution_count": 4,
   "id": "96b67ce2",
   "metadata": {},
   "outputs": [
    {
     "data": {
      "text/plain": [
       "array([[[ 1,  2,  3],\n",
       "        [ 4,  5,  6]],\n",
       "\n",
       "       [[ 7,  8,  9],\n",
       "        [10, 11, 12]]])"
      ]
     },
     "execution_count": 4,
     "metadata": {},
     "output_type": "execute_result"
    }
   ],
   "source": [
    "# 创建三维数组\n",
    "arr3d = np.array([[[1, 2, 3], [4, 5, 6]], [[7, 8, 9], [10, 11, 12]]])      \n",
    "arr3d"
   ]
  },
  {
   "cell_type": "code",
   "execution_count": 5,
   "id": "1f323c7b",
   "metadata": {
    "scrolled": true
   },
   "outputs": [
    {
     "data": {
      "text/plain": [
       "array([[0., 0., 0.],\n",
       "       [0., 0., 0.],\n",
       "       [0., 0., 0.]])"
      ]
     },
     "execution_count": 5,
     "metadata": {},
     "output_type": "execute_result"
    }
   ],
   "source": [
    "np.zeros((3, 3))   # 创建数组，并指定数组的维度元组是(3, 3)"
   ]
  },
  {
   "cell_type": "code",
   "execution_count": 6,
   "id": "876c50bf",
   "metadata": {},
   "outputs": [
    {
     "data": {
      "text/plain": [
       "array([[1., 1., 1.],\n",
       "       [1., 1., 1.],\n",
       "       [1., 1., 1.]])"
      ]
     },
     "execution_count": 6,
     "metadata": {},
     "output_type": "execute_result"
    }
   ],
   "source": [
    "np.ones((3, 3))    # 创建数组，并指定数组的维度元组是(3, 3)"
   ]
  },
  {
   "cell_type": "code",
   "execution_count": 2,
   "id": "46cb64ea",
   "metadata": {},
   "outputs": [
    {
     "data": {
      "text/plain": [
       "array([[0., 0., 0.],\n",
       "       [0., 0., 0.],\n",
       "       [0., 0., 0.]])"
      ]
     },
     "execution_count": 2,
     "metadata": {},
     "output_type": "execute_result"
    }
   ],
   "source": [
    "np.empty((3, 3))  # 创建数组，并指定数组的维度元组是(3, 3)"
   ]
  },
  {
   "cell_type": "code",
   "execution_count": 4,
   "id": "2c0ac3a2",
   "metadata": {},
   "outputs": [
    {
     "data": {
      "text/plain": [
       "array([ 1,  6, 11, 16])"
      ]
     },
     "execution_count": 4,
     "metadata": {},
     "output_type": "execute_result"
    }
   ],
   "source": [
    "np.arange(1, 20, 5)  # 创建数组，起始值是1，终止值是20，步长为5"
   ]
  },
  {
   "cell_type": "code",
   "execution_count": 5,
   "id": "3d673acd",
   "metadata": {},
   "outputs": [
    {
     "data": {
      "text/plain": [
       "array([ 1.  ,  5.75, 10.5 , 15.25, 20.  ])"
      ]
     },
     "execution_count": 5,
     "metadata": {},
     "output_type": "execute_result"
    }
   ],
   "source": [
    "np.linspace(1, 20, 5)  # 创建数组，起始值是1，终止值是20，数量为5"
   ]
  },
  {
   "cell_type": "code",
   "execution_count": 6,
   "id": "f0252e9d",
   "metadata": {},
   "outputs": [
    {
     "data": {
      "text/plain": [
       "array([1., 2., 3.], dtype=float32)"
      ]
     },
     "execution_count": 6,
     "metadata": {},
     "output_type": "execute_result"
    }
   ],
   "source": [
    "np.array([1, 2, 3], dtype=np.float32)"
   ]
  },
  {
   "cell_type": "code",
   "execution_count": 7,
   "id": "c2470758",
   "metadata": {},
   "outputs": [
    {
     "data": {
      "text/plain": [
       "array([[1, 1, 1],\n",
       "       [1, 1, 1],\n",
       "       [1, 1, 1]])"
      ]
     },
     "execution_count": 7,
     "metadata": {},
     "output_type": "execute_result"
    }
   ],
   "source": [
    "np.ones((3, 3), dtype='int32')"
   ]
  },
  {
   "cell_type": "markdown",
   "id": "3dd86704",
   "metadata": {},
   "source": [
    "## 2.3\t数组的数据类型"
   ]
  },
  {
   "cell_type": "markdown",
   "id": "1aa7a181",
   "metadata": {},
   "source": [
    "### 2.3.1 查看数据类型"
   ]
  },
  {
   "cell_type": "code",
   "execution_count": 16,
   "id": "a7dd7f4c",
   "metadata": {},
   "outputs": [
    {
     "data": {
      "text/plain": [
       "'int32'"
      ]
     },
     "execution_count": 16,
     "metadata": {},
     "output_type": "execute_result"
    }
   ],
   "source": [
    "arr_one = np.array([[1, 2, 3], [4, 5, 6]])\n",
    "arr_one.dtype.name"
   ]
  },
  {
   "cell_type": "markdown",
   "id": "68bdf6f0",
   "metadata": {},
   "source": [
    "### 2.3.2 转换数据类型"
   ]
  },
  {
   "cell_type": "code",
   "execution_count": 17,
   "id": "816b492f",
   "metadata": {},
   "outputs": [
    {
     "data": {
      "text/plain": [
       "'int32'"
      ]
     },
     "execution_count": 17,
     "metadata": {},
     "output_type": "execute_result"
    }
   ],
   "source": [
    "data = np.array([[1, 2, 3], [4, 5, 6]]) \n",
    "data.dtype.name"
   ]
  },
  {
   "cell_type": "code",
   "execution_count": 6,
   "id": "c21d3d0e",
   "metadata": {},
   "outputs": [
    {
     "data": {
      "text/plain": [
       "'float32'"
      ]
     },
     "execution_count": 6,
     "metadata": {},
     "output_type": "execute_result"
    }
   ],
   "source": [
    "float_data = data.astype(np.float32) # 数据类型转换为float32\n",
    "float_data.dtype.name"
   ]
  },
  {
   "cell_type": "code",
   "execution_count": 13,
   "id": "5194a048",
   "metadata": {},
   "outputs": [
    {
     "data": {
      "text/plain": [
       "array([1.2, 2.9, 3.5])"
      ]
     },
     "execution_count": 13,
     "metadata": {},
     "output_type": "execute_result"
    }
   ],
   "source": [
    "float_data = np.array([1.2, 2.9, 3.5])\n",
    "float_data"
   ]
  },
  {
   "cell_type": "code",
   "execution_count": 14,
   "id": "52517e58",
   "metadata": {},
   "outputs": [
    {
     "data": {
      "text/plain": [
       "array([1, 2, 3])"
      ]
     },
     "execution_count": 14,
     "metadata": {},
     "output_type": "execute_result"
    }
   ],
   "source": [
    "int_data = float_data.astype(np.int32) # 数据类型转换为int32\n",
    "int_data"
   ]
  },
  {
   "cell_type": "code",
   "execution_count": 15,
   "id": "21e4c056",
   "metadata": {},
   "outputs": [
    {
     "data": {
      "text/plain": [
       "array([1, 2, 3], dtype=int64)"
      ]
     },
     "execution_count": 15,
     "metadata": {},
     "output_type": "execute_result"
    }
   ],
   "source": [
    "str_data = np.array(['1', '2', '3'])\n",
    "int_data = str_data.astype(np.int64)\n",
    "int_data"
   ]
  },
  {
   "cell_type": "markdown",
   "id": "dd0cedef",
   "metadata": {},
   "source": [
    "## 2.4 数组的索引和切片"
   ]
  },
  {
   "cell_type": "markdown",
   "id": "23555f0b",
   "metadata": {},
   "source": [
    "### 2.4.2\t整数索引和切片"
   ]
  },
  {
   "cell_type": "code",
   "execution_count": 18,
   "id": "aa24c9ca",
   "metadata": {},
   "outputs": [
    {
     "data": {
      "text/plain": [
       "array([[ 1,  6, 11, 16, 21],\n",
       "       [ 2,  7, 12, 17, 22],\n",
       "       [ 3,  8, 13, 18, 23],\n",
       "       [ 4,  9, 14, 19, 24],\n",
       "       [ 5, 10, 15, 20, 25]])"
      ]
     },
     "execution_count": 18,
     "metadata": {},
     "output_type": "execute_result"
    }
   ],
   "source": [
    "arr2d = np.array([[1, 6, 11, 16, 21], [2, 7, 12, 17, 22], \n",
    "                     [3, 8, 13, 18, 23], [4, 9, 14, 19, 24], \n",
    "                     [5, 10, 15, 20, 25]])\n",
    "arr2d"
   ]
  },
  {
   "cell_type": "code",
   "execution_count": 19,
   "id": "2ab11ac9",
   "metadata": {},
   "outputs": [
    {
     "data": {
      "text/plain": [
       "array([ 3,  8, 13, 18, 23])"
      ]
     },
     "execution_count": 19,
     "metadata": {},
     "output_type": "execute_result"
    }
   ],
   "source": [
    "arr2d[2]       # 获取行索引为2的整行元素"
   ]
  },
  {
   "cell_type": "code",
   "execution_count": 20,
   "id": "7fe49657",
   "metadata": {},
   "outputs": [
    {
     "data": {
      "text/plain": [
       "8"
      ]
     },
     "execution_count": 20,
     "metadata": {},
     "output_type": "execute_result"
    }
   ],
   "source": [
    "arr2d[2, 1]        # 获取行索引为2、列索引为1的元素"
   ]
  },
  {
   "cell_type": "code",
   "execution_count": 21,
   "id": "fdaaabbc",
   "metadata": {},
   "outputs": [
    {
     "data": {
      "text/plain": [
       "array([[ 1,  6, 11, 16, 21],\n",
       "       [ 2,  7, 12, 17, 22]])"
      ]
     },
     "execution_count": 21,
     "metadata": {},
     "output_type": "execute_result"
    }
   ],
   "source": [
    "arr2d[:2]           # 获取索引为0、1的两行元素"
   ]
  },
  {
   "cell_type": "code",
   "execution_count": 22,
   "id": "37f32feb",
   "metadata": {},
   "outputs": [
    {
     "data": {
      "text/plain": [
       "array([[1, 6],\n",
       "       [2, 7]])"
      ]
     },
     "execution_count": 22,
     "metadata": {},
     "output_type": "execute_result"
    }
   ],
   "source": [
    "arr2d[:2, :2]    # 获取行索引为0~1，列索引为0~1的部分元素"
   ]
  },
  {
   "cell_type": "code",
   "execution_count": 23,
   "id": "a2af96f9",
   "metadata": {},
   "outputs": [
    {
     "data": {
      "text/plain": [
       "array([11, 12, 13, 14, 15])"
      ]
     },
     "execution_count": 23,
     "metadata": {},
     "output_type": "execute_result"
    }
   ],
   "source": [
    "arr2d[:, 2]   # 获取列索引为2的整列元素"
   ]
  },
  {
   "cell_type": "markdown",
   "id": "065fc128",
   "metadata": {},
   "source": [
    "### 2.4.3\t花式索引"
   ]
  },
  {
   "cell_type": "code",
   "execution_count": 24,
   "id": "141956ee",
   "metadata": {},
   "outputs": [
    {
     "data": {
      "text/plain": [
       "array([10,  6, 16])"
      ]
     },
     "execution_count": 24,
     "metadata": {},
     "output_type": "execute_result"
    }
   ],
   "source": [
    "arr = np.array([10, 6, 5, 11, 18, 16, 9, 0, 3, 20])\n",
    "arr[[0, 1, 5]]"
   ]
  },
  {
   "cell_type": "code",
   "execution_count": 25,
   "id": "3945d437",
   "metadata": {},
   "outputs": [
    {
     "data": {
      "text/plain": [
       "array([[ 2,  7, 12, 17, 22],\n",
       "       [ 5, 10, 15, 20, 25]])"
      ]
     },
     "execution_count": 25,
     "metadata": {},
     "output_type": "execute_result"
    }
   ],
   "source": [
    "arr2d[[1, 4]]"
   ]
  },
  {
   "cell_type": "code",
   "execution_count": 26,
   "id": "3675d3aa",
   "metadata": {},
   "outputs": [
    {
     "data": {
      "text/plain": [
       "array([12, 20])"
      ]
     },
     "execution_count": 26,
     "metadata": {},
     "output_type": "execute_result"
    }
   ],
   "source": [
    "arr2d[[1,4], [2, 3]]"
   ]
  },
  {
   "cell_type": "markdown",
   "id": "51e266e1",
   "metadata": {},
   "source": [
    "### 2.4.4\t布尔索引"
   ]
  },
  {
   "cell_type": "code",
   "execution_count": 27,
   "id": "367cd33b",
   "metadata": {},
   "outputs": [
    {
     "data": {
      "text/plain": [
       "array([[79, 88, 80],\n",
       "       [89, 90, 92],\n",
       "       [83, 78, 85],\n",
       "       [78, 76, 80]])"
      ]
     },
     "execution_count": 27,
     "metadata": {},
     "output_type": "execute_result"
    }
   ],
   "source": [
    "student_score = np.array([[79, 88, 80], [89, 90, 92], \n",
    "                          [83, 78, 85], [78, 76, 80]])\n",
    "student_score"
   ]
  },
  {
   "cell_type": "code",
   "execution_count": 28,
   "id": "72de8c33",
   "metadata": {},
   "outputs": [
    {
     "data": {
      "text/plain": [
       "array([[False,  True, False],\n",
       "       [ True,  True,  True],\n",
       "       [ True, False,  True],\n",
       "       [False, False, False]])"
      ]
     },
     "execution_count": 28,
     "metadata": {},
     "output_type": "execute_result"
    }
   ],
   "source": [
    "student_score > 80"
   ]
  },
  {
   "cell_type": "code",
   "execution_count": 29,
   "id": "ddf57c6d",
   "metadata": {},
   "outputs": [
    {
     "data": {
      "text/plain": [
       "array([88, 89, 90, 92, 83, 85])"
      ]
     },
     "execution_count": 29,
     "metadata": {},
     "output_type": "execute_result"
    }
   ],
   "source": [
    "student_score[student_score > 80]"
   ]
  },
  {
   "cell_type": "code",
   "execution_count": 30,
   "id": "83c0ff54",
   "metadata": {},
   "outputs": [
    {
     "data": {
      "text/plain": [
       "array([[79, 88],\n",
       "       [83, 78]])"
      ]
     },
     "execution_count": 30,
     "metadata": {},
     "output_type": "execute_result"
    }
   ],
   "source": [
    "student_score[[True, False, True, False], :2]"
   ]
  },
  {
   "cell_type": "markdown",
   "id": "74cfde29",
   "metadata": {},
   "source": [
    "## 2.5\t数组的算术运算"
   ]
  },
  {
   "cell_type": "markdown",
   "id": "50033edb",
   "metadata": {},
   "source": [
    "### 2.5.1 形状相同的数组间的算术运算"
   ]
  },
  {
   "cell_type": "code",
   "execution_count": 31,
   "id": "afe290fa",
   "metadata": {},
   "outputs": [
    {
     "data": {
      "text/plain": [
       "array([[ 3,  5,  7,  9],\n",
       "       [11, 13, 15, 17],\n",
       "       [19, 21, 23, 25]])"
      ]
     },
     "execution_count": 31,
     "metadata": {},
     "output_type": "execute_result"
    }
   ],
   "source": [
    "import numpy as np\n",
    "arr_one = np.array([[1, 2, 3, 4], [5, 6, 7, 8], [9, 10, 11, 12]])\n",
    "arr_two = np.array([[2, 3, 4, 5], [6, 7, 8, 9], [10, 11, 12, 13]])\n",
    "arr_one + arr_two                # 两个数组进行加法运算"
   ]
  },
  {
   "cell_type": "code",
   "execution_count": 32,
   "id": "b56bbb12",
   "metadata": {},
   "outputs": [
    {
     "data": {
      "text/plain": [
       "array([[-1, -1, -1, -1],\n",
       "       [-1, -1, -1, -1],\n",
       "       [-1, -1, -1, -1]])"
      ]
     },
     "execution_count": 32,
     "metadata": {},
     "output_type": "execute_result"
    }
   ],
   "source": [
    "arr_one - arr_two                # 两个数组进行减法运算"
   ]
  },
  {
   "cell_type": "code",
   "execution_count": 33,
   "id": "6e76c79e",
   "metadata": {},
   "outputs": [
    {
     "data": {
      "text/plain": [
       "array([[  2,   6,  12,  20],\n",
       "       [ 30,  42,  56,  72],\n",
       "       [ 90, 110, 132, 156]])"
      ]
     },
     "execution_count": 33,
     "metadata": {},
     "output_type": "execute_result"
    }
   ],
   "source": [
    "arr_one * arr_two                # 两个数组进行乘法运算"
   ]
  },
  {
   "cell_type": "code",
   "execution_count": 34,
   "id": "50725b79",
   "metadata": {},
   "outputs": [
    {
     "data": {
      "text/plain": [
       "array([[0.5       , 0.66666667, 0.75      , 0.8       ],\n",
       "       [0.83333333, 0.85714286, 0.875     , 0.88888889],\n",
       "       [0.9       , 0.90909091, 0.91666667, 0.92307692]])"
      ]
     },
     "execution_count": 34,
     "metadata": {},
     "output_type": "execute_result"
    }
   ],
   "source": [
    "arr_one / arr_two                # 两个数组进行除法运算"
   ]
  },
  {
   "cell_type": "markdown",
   "id": "daf19823",
   "metadata": {},
   "source": [
    "### 2.5.2\t形状不同的数组间的算术运算"
   ]
  },
  {
   "cell_type": "code",
   "execution_count": 35,
   "id": "635fd619",
   "metadata": {},
   "outputs": [
    {
     "data": {
      "text/plain": [
       "(3, 1)"
      ]
     },
     "execution_count": 35,
     "metadata": {},
     "output_type": "execute_result"
    }
   ],
   "source": [
    "import numpy as np\n",
    "arr_one = np.array([[1], [5], [9]])\n",
    "arr_one.shape"
   ]
  },
  {
   "cell_type": "code",
   "execution_count": 36,
   "id": "e3b34392",
   "metadata": {},
   "outputs": [
    {
     "data": {
      "text/plain": [
       "(4,)"
      ]
     },
     "execution_count": 36,
     "metadata": {},
     "output_type": "execute_result"
    }
   ],
   "source": [
    "arr_two = np.array([1, 2, 3, 4])\n",
    "arr_two.shape"
   ]
  },
  {
   "cell_type": "code",
   "execution_count": 37,
   "id": "9cec57cb",
   "metadata": {},
   "outputs": [
    {
     "data": {
      "text/plain": [
       "(3, 4)"
      ]
     },
     "execution_count": 37,
     "metadata": {},
     "output_type": "execute_result"
    }
   ],
   "source": [
    "arr_res = arr_one + arr_two\n",
    "arr_res.shape"
   ]
  },
  {
   "cell_type": "code",
   "execution_count": 38,
   "id": "3e4e428c",
   "metadata": {},
   "outputs": [
    {
     "data": {
      "text/plain": [
       "array([[ 2,  3,  4,  5],\n",
       "       [ 6,  7,  8,  9],\n",
       "       [10, 11, 12, 13]])"
      ]
     },
     "execution_count": 38,
     "metadata": {},
     "output_type": "execute_result"
    }
   ],
   "source": [
    "arr_res"
   ]
  },
  {
   "cell_type": "markdown",
   "id": "0b8328a8",
   "metadata": {},
   "source": [
    "## 2.5.3\t数组与标量的算术运算"
   ]
  },
  {
   "cell_type": "code",
   "execution_count": 39,
   "id": "bbf21767",
   "metadata": {},
   "outputs": [
    {
     "data": {
      "text/plain": [
       "array([[11, 12, 13],\n",
       "       [14, 15, 16]])"
      ]
     },
     "execution_count": 39,
     "metadata": {},
     "output_type": "execute_result"
    }
   ],
   "source": [
    "import numpy as np\n",
    "arr_2d= np.array([[1, 2, 3], [4, 5, 6]])\n",
    "data = 10\n",
    "arr_2d + data      # 数组与标量相加"
   ]
  },
  {
   "cell_type": "code",
   "execution_count": 40,
   "id": "4b31de44",
   "metadata": {},
   "outputs": [
    {
     "data": {
      "text/plain": [
       "array([[-9, -8, -7],\n",
       "       [-6, -5, -4]])"
      ]
     },
     "execution_count": 40,
     "metadata": {},
     "output_type": "execute_result"
    }
   ],
   "source": [
    "arr_2d - data        # 数组与标量相减"
   ]
  },
  {
   "cell_type": "code",
   "execution_count": 41,
   "id": "a9a06c2a",
   "metadata": {},
   "outputs": [
    {
     "data": {
      "text/plain": [
       "array([[10, 20, 30],\n",
       "       [40, 50, 60]])"
      ]
     },
     "execution_count": 41,
     "metadata": {},
     "output_type": "execute_result"
    }
   ],
   "source": [
    "arr_2d * data       # 数组与标量相乘"
   ]
  },
  {
   "cell_type": "code",
   "execution_count": 42,
   "id": "b785ff09",
   "metadata": {},
   "outputs": [
    {
     "data": {
      "text/plain": [
       "array([[0.1, 0.2, 0.3],\n",
       "       [0.4, 0.5, 0.6]])"
      ]
     },
     "execution_count": 42,
     "metadata": {},
     "output_type": "execute_result"
    }
   ],
   "source": [
    "arr_2d/ data       # 数组与标量相除"
   ]
  },
  {
   "cell_type": "markdown",
   "id": "f3724cea",
   "metadata": {},
   "source": [
    "## 2.6\t通用函数"
   ]
  },
  {
   "cell_type": "code",
   "execution_count": 43,
   "id": "6fcb5edd",
   "metadata": {},
   "outputs": [
    {
     "data": {
      "text/plain": [
       "array([ 1.,  5.,  8., 10.])"
      ]
     },
     "execution_count": 43,
     "metadata": {},
     "output_type": "execute_result"
    }
   ],
   "source": [
    "import numpy as np\n",
    "arr_int = np.array([1, -5, 8, -10])\n",
    "arr_float = np.array([1.3, -5.5, 8.0, -10.7])\n",
    "arr_bool = np.array([np.NAN, np.NAN, 8.0, -10.7])\n",
    "np.fabs(arr_int)     # 计算数组中各元素的绝对值，每个绝对值都是浮点数"
   ]
  },
  {
   "cell_type": "code",
   "execution_count": 44,
   "id": "2d765270",
   "metadata": {},
   "outputs": [
    {
     "data": {
      "text/plain": [
       "array([  1,  25,  64, 100])"
      ]
     },
     "execution_count": 44,
     "metadata": {},
     "output_type": "execute_result"
    }
   ],
   "source": [
    "np.square(arr_int)  # 计算数组中各元素的平方"
   ]
  },
  {
   "cell_type": "code",
   "execution_count": 45,
   "id": "c914c406",
   "metadata": {},
   "outputs": [
    {
     "data": {
      "text/plain": [
       "array([  2.,  -5.,   8., -10.])"
      ]
     },
     "execution_count": 45,
     "metadata": {},
     "output_type": "execute_result"
    }
   ],
   "source": [
    "np.ceil(arr_float)   # 计算数组中各元素的ceilling值"
   ]
  },
  {
   "cell_type": "code",
   "execution_count": 46,
   "id": "9f2eb55d",
   "metadata": {},
   "outputs": [
    {
     "data": {
      "text/plain": [
       "array([  1.,  -6.,   8., -11.])"
      ]
     },
     "execution_count": 46,
     "metadata": {},
     "output_type": "execute_result"
    }
   ],
   "source": [
    "np.floor(arr_float)   # 计算数组中各元素的floor值"
   ]
  },
  {
   "cell_type": "code",
   "execution_count": 47,
   "id": "b0949a5a",
   "metadata": {},
   "outputs": [
    {
     "data": {
      "text/plain": [
       "array([  1.,  -6.,   8., -11.])"
      ]
     },
     "execution_count": 47,
     "metadata": {},
     "output_type": "execute_result"
    }
   ],
   "source": [
    "np.rint(arr_float)   # 计算数组中各元素四舍五入的值"
   ]
  },
  {
   "cell_type": "code",
   "execution_count": 48,
   "id": "e80fb075",
   "metadata": {
    "scrolled": true
   },
   "outputs": [
    {
     "data": {
      "text/plain": [
       "(array([ 0.3, -0.5,  0. , -0.7]), array([  1.,  -5.,   8., -10.]))"
      ]
     },
     "execution_count": 48,
     "metadata": {},
     "output_type": "execute_result"
    }
   ],
   "source": [
    "np.modf(arr_float)   # 返回数组中各元素的小数部分和整数部分"
   ]
  },
  {
   "cell_type": "code",
   "execution_count": 49,
   "id": "1c434db1",
   "metadata": {},
   "outputs": [
    {
     "data": {
      "text/plain": [
       "array([ True,  True, False, False])"
      ]
     },
     "execution_count": 49,
     "metadata": {},
     "output_type": "execute_result"
    }
   ],
   "source": [
    "np.isnan(arr_bool)   # 判断数组中各元素的值是否为NaN"
   ]
  },
  {
   "cell_type": "code",
   "execution_count": 50,
   "id": "7369a78f",
   "metadata": {},
   "outputs": [
    {
     "data": {
      "text/plain": [
       "array([ 7,  7, 18, 13])"
      ]
     },
     "execution_count": 50,
     "metadata": {},
     "output_type": "execute_result"
    }
   ],
   "source": [
    "import numpy as np\n",
    "arr_one = np.array([1, 5, 10, 4])\n",
    "arr_two = np.array([6, 2, 8, 9])\n",
    "np.add(arr_one, arr_two)     # 计算数组arr_one和arr_two中各元素相加的结果"
   ]
  },
  {
   "cell_type": "code",
   "execution_count": 51,
   "id": "7b444296",
   "metadata": {},
   "outputs": [
    {
     "data": {
      "text/plain": [
       "array([ 6,  5, 10,  9])"
      ]
     },
     "execution_count": 51,
     "metadata": {},
     "output_type": "execute_result"
    }
   ],
   "source": [
    "np.maximum(arr_one, arr_two) # 计算数组arr_one和arr_two中各元素的最大值"
   ]
  },
  {
   "cell_type": "code",
   "execution_count": 52,
   "id": "98fbf640",
   "metadata": {},
   "outputs": [
    {
     "data": {
      "text/plain": [
       "array([1, 1, 2, 4])"
      ]
     },
     "execution_count": 52,
     "metadata": {},
     "output_type": "execute_result"
    }
   ],
   "source": [
    "np.mod(arr_one, arr_two)      # 计算数组arr_one和arr_two中各元素求模的结果"
   ]
  },
  {
   "cell_type": "code",
   "execution_count": 53,
   "id": "f43e8ce0",
   "metadata": {},
   "outputs": [
    {
     "data": {
      "text/plain": [
       "array([ True, False, False,  True])"
      ]
     },
     "execution_count": 53,
     "metadata": {},
     "output_type": "execute_result"
    }
   ],
   "source": [
    "np.less_equal(arr_one, arr_two)   # 比较数组arr_one是否小于或等于arr_two"
   ]
  },
  {
   "cell_type": "markdown",
   "id": "d1513693",
   "metadata": {},
   "source": [
    "## 2.7\t数组的重塑与转置"
   ]
  },
  {
   "cell_type": "markdown",
   "id": "fc98460e",
   "metadata": {},
   "source": [
    "### 2.7.1\t数组的重塑"
   ]
  },
  {
   "cell_type": "code",
   "execution_count": 54,
   "id": "95a5bbe8",
   "metadata": {},
   "outputs": [
    {
     "name": "stdout",
     "output_type": "stream",
     "text": [
      "原数组的形状：(12,)\n",
      "[ 1  2  3  4  5  6  7  8  9 10 11 12]\n",
      "新数组的形状：(6, 2)\n",
      "[[ 1  2]\n",
      " [ 3  4]\n",
      " [ 5  6]\n",
      " [ 7  8]\n",
      " [ 9 10]\n",
      " [11 12]]\n"
     ]
    }
   ],
   "source": [
    "array_1d = np.arange(1, 13)\n",
    "print('原数组的形状：' + str(array_1d.shape))\n",
    "print(array_1d)\n",
    "array_2d = array_1d.reshape((6,2))\n",
    "print('新数组的形状：' + str(array_2d.shape))\n",
    "print(array_2d)"
   ]
  },
  {
   "cell_type": "code",
   "execution_count": 55,
   "id": "d710eaa2",
   "metadata": {},
   "outputs": [
    {
     "name": "stdout",
     "output_type": "stream",
     "text": [
      "新数组的形状：(3, 4)\n",
      "[[ 1  2  3  4]\n",
      " [ 5  6  7  8]\n",
      " [ 9 10 11 12]]\n"
     ]
    }
   ],
   "source": [
    "new_array_2d = array_2d.reshape((3,4))\n",
    "print('新数组的形状：' + str(new_array_2d.shape))\n",
    "print(new_array_2d)"
   ]
  },
  {
   "cell_type": "markdown",
   "id": "6ac42df9",
   "metadata": {},
   "source": [
    "### 2.4.2\t数组的转置"
   ]
  },
  {
   "cell_type": "code",
   "execution_count": 56,
   "id": "d41fcfa1",
   "metadata": {},
   "outputs": [
    {
     "data": {
      "text/plain": [
       "array([[ 0,  1,  2,  3],\n",
       "       [ 4,  5,  6,  7],\n",
       "       [ 8,  9, 10, 11]])"
      ]
     },
     "execution_count": 56,
     "metadata": {},
     "output_type": "execute_result"
    }
   ],
   "source": [
    "arr = np.arange(12).reshape(3, 4)\n",
    "arr"
   ]
  },
  {
   "cell_type": "code",
   "execution_count": 57,
   "id": "2dbb2ff5",
   "metadata": {},
   "outputs": [
    {
     "data": {
      "text/plain": [
       "array([[ 0,  4,  8],\n",
       "       [ 1,  5,  9],\n",
       "       [ 2,  6, 10],\n",
       "       [ 3,  7, 11]])"
      ]
     },
     "execution_count": 57,
     "metadata": {},
     "output_type": "execute_result"
    }
   ],
   "source": [
    "arr.T      # 使用T属性对数组进行转置"
   ]
  },
  {
   "cell_type": "code",
   "execution_count": 58,
   "id": "a02d2c41",
   "metadata": {
    "scrolled": true
   },
   "outputs": [
    {
     "data": {
      "text/plain": [
       "array([[[ 0,  1,  2,  3],\n",
       "        [ 4,  5,  6,  7],\n",
       "        [ 8,  9, 10, 11]],\n",
       "\n",
       "       [[12, 13, 14, 15],\n",
       "        [16, 17, 18, 19],\n",
       "        [20, 21, 22, 23]]])"
      ]
     },
     "execution_count": 58,
     "metadata": {},
     "output_type": "execute_result"
    }
   ],
   "source": [
    "arr = np.arange(24).reshape((2, 3, 4))  \n",
    "arr"
   ]
  },
  {
   "cell_type": "code",
   "execution_count": 59,
   "id": "21ef81dd",
   "metadata": {
    "scrolled": true
   },
   "outputs": [
    {
     "data": {
      "text/plain": [
       "array([[[ 0,  1,  2,  3],\n",
       "        [ 4,  5,  6,  7],\n",
       "        [ 8,  9, 10, 11]],\n",
       "\n",
       "       [[12, 13, 14, 15],\n",
       "        [16, 17, 18, 19],\n",
       "        [20, 21, 22, 23]]])"
      ]
     },
     "execution_count": 59,
     "metadata": {},
     "output_type": "execute_result"
    }
   ],
   "source": [
    "# 数组转置，轴编号的元组为(0, 1, 2)\n",
    "arr.transpose((0, 1, 2))  "
   ]
  },
  {
   "cell_type": "code",
   "execution_count": 60,
   "id": "9e02d874",
   "metadata": {
    "scrolled": true
   },
   "outputs": [
    {
     "data": {
      "text/plain": [
       "array([[[ 0,  1,  2,  3],\n",
       "        [12, 13, 14, 15]],\n",
       "\n",
       "       [[ 4,  5,  6,  7],\n",
       "        [16, 17, 18, 19]],\n",
       "\n",
       "       [[ 8,  9, 10, 11],\n",
       "        [20, 21, 22, 23]]])"
      ]
     },
     "execution_count": 60,
     "metadata": {},
     "output_type": "execute_result"
    }
   ],
   "source": [
    "# 互换0轴和1轴的元素，轴编号的元组为(1, 0, 2)\n",
    "new_arr = arr.transpose((1, 0, 2))\n",
    "new_arr"
   ]
  },
  {
   "cell_type": "code",
   "execution_count": 61,
   "id": "e57124a0",
   "metadata": {
    "scrolled": true
   },
   "outputs": [
    {
     "data": {
      "text/plain": [
       "(3, 2, 4)"
      ]
     },
     "execution_count": 61,
     "metadata": {},
     "output_type": "execute_result"
    }
   ],
   "source": [
    "new_arr.shape"
   ]
  },
  {
   "cell_type": "code",
   "execution_count": 62,
   "id": "52651e6a",
   "metadata": {},
   "outputs": [
    {
     "data": {
      "text/plain": [
       "array([[[ 0,  4,  8],\n",
       "        [ 1,  5,  9],\n",
       "        [ 2,  6, 10],\n",
       "        [ 3,  7, 11]],\n",
       "\n",
       "       [[12, 16, 20],\n",
       "        [13, 17, 21],\n",
       "        [14, 18, 22],\n",
       "        [15, 19, 23]]])"
      ]
     },
     "execution_count": 62,
     "metadata": {},
     "output_type": "execute_result"
    }
   ],
   "source": [
    "# 互换1轴和2轴的元素，轴编号的元组为(0, 2, 1)\n",
    "new_arr = arr.transpose((0, 2, 1))\n",
    "new_arr"
   ]
  },
  {
   "cell_type": "code",
   "execution_count": 63,
   "id": "8c538fe2",
   "metadata": {},
   "outputs": [
    {
     "data": {
      "text/plain": [
       "(2, 4, 3)"
      ]
     },
     "execution_count": 63,
     "metadata": {},
     "output_type": "execute_result"
    }
   ],
   "source": [
    "new_arr.shape"
   ]
  },
  {
   "cell_type": "code",
   "execution_count": 64,
   "id": "bb11e6e0",
   "metadata": {},
   "outputs": [
    {
     "data": {
      "text/plain": [
       "array([[[ 0, 12],\n",
       "        [ 4, 16],\n",
       "        [ 8, 20]],\n",
       "\n",
       "       [[ 1, 13],\n",
       "        [ 5, 17],\n",
       "        [ 9, 21]],\n",
       "\n",
       "       [[ 2, 14],\n",
       "        [ 6, 18],\n",
       "        [10, 22]],\n",
       "\n",
       "       [[ 3, 15],\n",
       "        [ 7, 19],\n",
       "        [11, 23]]])"
      ]
     },
     "execution_count": 64,
     "metadata": {},
     "output_type": "execute_result"
    }
   ],
   "source": [
    "arr.transpose()"
   ]
  },
  {
   "cell_type": "code",
   "execution_count": 65,
   "id": "fbddf7b6",
   "metadata": {},
   "outputs": [
    {
     "data": {
      "text/plain": [
       "array([[[ 0, 12],\n",
       "        [ 4, 16],\n",
       "        [ 8, 20]],\n",
       "\n",
       "       [[ 1, 13],\n",
       "        [ 5, 17],\n",
       "        [ 9, 21]],\n",
       "\n",
       "       [[ 2, 14],\n",
       "        [ 6, 18],\n",
       "        [10, 22]],\n",
       "\n",
       "       [[ 3, 15],\n",
       "        [ 7, 19],\n",
       "        [11, 23]]])"
      ]
     },
     "execution_count": 65,
     "metadata": {},
     "output_type": "execute_result"
    }
   ],
   "source": [
    "arr.transpose(2,1,0)"
   ]
  },
  {
   "cell_type": "markdown",
   "id": "d779e6ee",
   "metadata": {},
   "source": [
    "## 2.8\t数组的其他操作"
   ]
  },
  {
   "cell_type": "markdown",
   "id": "af55e5e9",
   "metadata": {},
   "source": [
    "### 2.8.1 条件逻辑"
   ]
  },
  {
   "cell_type": "code",
   "execution_count": 66,
   "id": "fac0749d",
   "metadata": {},
   "outputs": [],
   "source": [
    "arr_x = np.array([1, 5, 7])\n",
    "arr_y = np.array([2, 6, 8])\n",
    "arr_con = np.array([True, False, True])"
   ]
  },
  {
   "cell_type": "code",
   "execution_count": 67,
   "id": "546b9002",
   "metadata": {},
   "outputs": [
    {
     "data": {
      "text/plain": [
       "array([1, 6, 7])"
      ]
     },
     "execution_count": 67,
     "metadata": {},
     "output_type": "execute_result"
    }
   ],
   "source": [
    "result = np.where(arr_con, arr_x, arr_y)\n",
    "result"
   ]
  },
  {
   "cell_type": "markdown",
   "id": "4ea565e5",
   "metadata": {},
   "source": [
    "### 2.8.2 统计运算"
   ]
  },
  {
   "cell_type": "code",
   "execution_count": 68,
   "id": "4d8b9720",
   "metadata": {},
   "outputs": [
    {
     "data": {
      "text/plain": [
       "45"
      ]
     },
     "execution_count": 68,
     "metadata": {},
     "output_type": "execute_result"
    }
   ],
   "source": [
    "arr = np.arange(10)     \n",
    "arr.sum()      # 求和"
   ]
  },
  {
   "cell_type": "code",
   "execution_count": 69,
   "id": "05ee3e13",
   "metadata": {},
   "outputs": [
    {
     "data": {
      "text/plain": [
       "4.5"
      ]
     },
     "execution_count": 69,
     "metadata": {},
     "output_type": "execute_result"
    }
   ],
   "source": [
    "arr.mean()     # 求平均值 "
   ]
  },
  {
   "cell_type": "code",
   "execution_count": 70,
   "id": "17041fd0",
   "metadata": {},
   "outputs": [
    {
     "data": {
      "text/plain": [
       "0"
      ]
     },
     "execution_count": 70,
     "metadata": {},
     "output_type": "execute_result"
    }
   ],
   "source": [
    "arr.min()      # 求最小值"
   ]
  },
  {
   "cell_type": "code",
   "execution_count": 71,
   "id": "4ab23782",
   "metadata": {},
   "outputs": [
    {
     "data": {
      "text/plain": [
       "9"
      ]
     },
     "execution_count": 71,
     "metadata": {},
     "output_type": "execute_result"
    }
   ],
   "source": [
    "arr.max()       # 求最大值"
   ]
  },
  {
   "cell_type": "code",
   "execution_count": 72,
   "id": "614a2c4e",
   "metadata": {},
   "outputs": [
    {
     "data": {
      "text/plain": [
       "0"
      ]
     },
     "execution_count": 72,
     "metadata": {},
     "output_type": "execute_result"
    }
   ],
   "source": [
    "arr.argmin()   # 求最小值的索引"
   ]
  },
  {
   "cell_type": "code",
   "execution_count": 73,
   "id": "65192207",
   "metadata": {},
   "outputs": [
    {
     "data": {
      "text/plain": [
       "9"
      ]
     },
     "execution_count": 73,
     "metadata": {},
     "output_type": "execute_result"
    }
   ],
   "source": [
    "arr.argmax()   # 求最大值的索引"
   ]
  },
  {
   "cell_type": "code",
   "execution_count": 74,
   "id": "c9da8032",
   "metadata": {},
   "outputs": [
    {
     "data": {
      "text/plain": [
       "array([ 0,  1,  3,  6, 10, 15, 21, 28, 36, 45])"
      ]
     },
     "execution_count": 74,
     "metadata": {},
     "output_type": "execute_result"
    }
   ],
   "source": [
    "arr.cumsum()   # 计算元素的累计和"
   ]
  },
  {
   "cell_type": "code",
   "execution_count": 75,
   "id": "63c44bbd",
   "metadata": {},
   "outputs": [
    {
     "data": {
      "text/plain": [
       "array([0, 0, 0, 0, 0, 0, 0, 0, 0, 0])"
      ]
     },
     "execution_count": 75,
     "metadata": {},
     "output_type": "execute_result"
    }
   ],
   "source": [
    "arr.cumprod()  # 计算元素的累计积"
   ]
  },
  {
   "cell_type": "markdown",
   "id": "a7acb943",
   "metadata": {},
   "source": [
    "### 2.8.3\t数组元素排序"
   ]
  },
  {
   "cell_type": "code",
   "execution_count": 83,
   "id": "509e4316",
   "metadata": {},
   "outputs": [
    {
     "data": {
      "text/plain": [
       "array([[6, 2, 7],\n",
       "       [3, 6, 2],\n",
       "       [4, 3, 2]])"
      ]
     },
     "execution_count": 83,
     "metadata": {},
     "output_type": "execute_result"
    }
   ],
   "source": [
    "arr = np.array([[6, 2, 7], [3, 6, 2], [4, 3, 2]])\n",
    "arr"
   ]
  },
  {
   "cell_type": "code",
   "execution_count": 84,
   "id": "307cd39f",
   "metadata": {},
   "outputs": [
    {
     "data": {
      "text/plain": [
       "array([[2, 6, 7],\n",
       "       [2, 3, 6],\n",
       "       [2, 3, 4]])"
      ]
     },
     "execution_count": 84,
     "metadata": {},
     "output_type": "execute_result"
    }
   ],
   "source": [
    "arr.sort()\n",
    "arr"
   ]
  },
  {
   "cell_type": "code",
   "execution_count": 85,
   "id": "effdae17",
   "metadata": {},
   "outputs": [
    {
     "data": {
      "text/plain": [
       "array([[6, 2, 7],\n",
       "       [3, 6, 2],\n",
       "       [4, 3, 2]])"
      ]
     },
     "execution_count": 85,
     "metadata": {},
     "output_type": "execute_result"
    }
   ],
   "source": [
    "arr = np.array([[6, 2, 7], [3, 6, 2], [4, 3, 2]])\n",
    "arr"
   ]
  },
  {
   "cell_type": "code",
   "execution_count": 86,
   "id": "2b9c3342",
   "metadata": {},
   "outputs": [
    {
     "data": {
      "text/plain": [
       "array([[3, 2, 2],\n",
       "       [4, 3, 2],\n",
       "       [6, 6, 7]])"
      ]
     },
     "execution_count": 86,
     "metadata": {},
     "output_type": "execute_result"
    }
   ],
   "source": [
    "arr.sort(0)       # 沿着编号为0的轴对元素排序\n",
    "arr"
   ]
  },
  {
   "cell_type": "markdown",
   "id": "c11e8b0c",
   "metadata": {},
   "source": [
    "### 2.8.4\t检索数组元素是否满足条件"
   ]
  },
  {
   "cell_type": "code",
   "execution_count": 87,
   "id": "5804a3f6",
   "metadata": {},
   "outputs": [
    {
     "data": {
      "text/plain": [
       "array([[ 1, -2, -7],\n",
       "       [-3,  6,  2],\n",
       "       [-4,  3,  2]])"
      ]
     },
     "execution_count": 87,
     "metadata": {},
     "output_type": "execute_result"
    }
   ],
   "source": [
    "arr = np.array([[1, -2, -7], [-3, 6, 2], [-4, 3, 2]])\n",
    "arr"
   ]
  },
  {
   "cell_type": "code",
   "execution_count": 88,
   "id": "05c8bb18",
   "metadata": {},
   "outputs": [
    {
     "data": {
      "text/plain": [
       "True"
      ]
     },
     "execution_count": 88,
     "metadata": {},
     "output_type": "execute_result"
    }
   ],
   "source": [
    "np.any(arr > 0)      # arr的所有元素是否有一个大于0"
   ]
  },
  {
   "cell_type": "code",
   "execution_count": 89,
   "id": "22233648",
   "metadata": {},
   "outputs": [
    {
     "data": {
      "text/plain": [
       "False"
      ]
     },
     "execution_count": 89,
     "metadata": {},
     "output_type": "execute_result"
    }
   ],
   "source": [
    "np.all(arr > 0)      # arr的所有元素是否都大于0"
   ]
  },
  {
   "cell_type": "markdown",
   "id": "a1bd7049",
   "metadata": {},
   "source": [
    "### 2.8.5\t查找数组的唯一元素"
   ]
  },
  {
   "cell_type": "code",
   "execution_count": 90,
   "id": "23a9cbfb",
   "metadata": {},
   "outputs": [
    {
     "data": {
      "text/plain": [
       "array([ 8, 11, 12, 23, 34])"
      ]
     },
     "execution_count": 90,
     "metadata": {},
     "output_type": "execute_result"
    }
   ],
   "source": [
    "arr = np.array([12, 11, 34, 23, 12, 8, 11])\n",
    "np.unique(arr)"
   ]
  },
  {
   "cell_type": "markdown",
   "id": "3ad7e06c",
   "metadata": {},
   "source": [
    "### 2.8.6\t判断元素是否在其他数组中"
   ]
  },
  {
   "cell_type": "code",
   "execution_count": 3,
   "id": "0218b798",
   "metadata": {},
   "outputs": [
    {
     "data": {
      "text/plain": [
       "array([ True,  True, False, False,  True, False,  True])"
      ]
     },
     "execution_count": 3,
     "metadata": {},
     "output_type": "execute_result"
    }
   ],
   "source": [
    "arr = np.array([12, 11, 34, 23, 12, 8, 11])\n",
    "arr2 = np.array([11, 12])\n",
    "np.in1d(arr, arr2)"
   ]
  },
  {
   "cell_type": "markdown",
   "id": "4f28428d",
   "metadata": {},
   "source": [
    "## 2.9\t线性代数模块"
   ]
  },
  {
   "cell_type": "code",
   "execution_count": 92,
   "id": "945cd5f2",
   "metadata": {},
   "outputs": [
    {
     "data": {
      "text/plain": [
       "array([[22, 28],\n",
       "       [49, 64]])"
      ]
     },
     "execution_count": 92,
     "metadata": {},
     "output_type": "execute_result"
    }
   ],
   "source": [
    "arr_x = np.array([[1, 2, 3], [4, 5, 6]])\n",
    "arr_y = np.array([[1, 2], [3, 4], [5, 6]])\n",
    "arr_x.dot(arr_y)   # 等价于np.dot(arr_x, arr_y)"
   ]
  },
  {
   "cell_type": "markdown",
   "id": "abf43fa4",
   "metadata": {},
   "source": [
    "## 2.10\t随机数模块"
   ]
  },
  {
   "cell_type": "code",
   "execution_count": 93,
   "id": "981c3b18",
   "metadata": {},
   "outputs": [
    {
     "data": {
      "text/plain": [
       "array([[0.43097559, 0.41945495, 0.67142379],\n",
       "       [0.92833633, 0.30713907, 0.76375916],\n",
       "       [0.52431504, 0.82874923, 0.91960558]])"
      ]
     },
     "execution_count": 93,
     "metadata": {},
     "output_type": "execute_result"
    }
   ],
   "source": [
    "import numpy as np\n",
    "np.random.rand(3, 3)     # 随机生成一个二维数组"
   ]
  },
  {
   "cell_type": "code",
   "execution_count": 94,
   "id": "7262f6d3",
   "metadata": {},
   "outputs": [
    {
     "data": {
      "text/plain": [
       "array([[[0.5952072 , 0.92948202, 0.10885716],\n",
       "        [0.51442329, 0.56436254, 0.77557813],\n",
       "        [0.92608048, 0.22640949, 0.9369423 ]],\n",
       "\n",
       "       [[0.49550604, 0.49621684, 0.53406832],\n",
       "        [0.66231576, 0.38305526, 0.63638521],\n",
       "        [0.60972226, 0.26105694, 0.33577065]]])"
      ]
     },
     "execution_count": 94,
     "metadata": {},
     "output_type": "execute_result"
    }
   ],
   "source": [
    "np.random.rand(2, 3, 3) # 随机生成一个三维数组"
   ]
  },
  {
   "cell_type": "code",
   "execution_count": 95,
   "id": "9b3eca2f",
   "metadata": {},
   "outputs": [
    {
     "data": {
      "text/plain": [
       "array([0.5488135 , 0.71518937, 0.60276338, 0.54488318, 0.4236548 ])"
      ]
     },
     "execution_count": 95,
     "metadata": {},
     "output_type": "execute_result"
    }
   ],
   "source": [
    "import numpy as np\n",
    "np.random.seed(0)   # 生成随机数的种子\n",
    "np.random.rand(5)   # 随机生成包含5个元素的浮点数组"
   ]
  },
  {
   "cell_type": "code",
   "execution_count": 96,
   "id": "2f1cc065",
   "metadata": {},
   "outputs": [
    {
     "data": {
      "text/plain": [
       "array([0.5488135 , 0.71518937, 0.60276338, 0.54488318, 0.4236548 ])"
      ]
     },
     "execution_count": 96,
     "metadata": {},
     "output_type": "execute_result"
    }
   ],
   "source": [
    "np.random.seed(0)\n",
    "np.random.rand(5)"
   ]
  },
  {
   "cell_type": "code",
   "execution_count": 97,
   "id": "8ca347c4",
   "metadata": {},
   "outputs": [
    {
     "data": {
      "text/plain": [
       "array([0.75172216, 0.00678222, 0.24055071, 0.78825986, 0.88920067])"
      ]
     },
     "execution_count": 97,
     "metadata": {},
     "output_type": "execute_result"
    }
   ],
   "source": [
    "np.random.seed()\n",
    "np.random.rand(5)"
   ]
  },
  {
   "cell_type": "markdown",
   "id": "af7c31e6",
   "metadata": {},
   "source": [
    "## 2.11\t案例：计算股票收益率和波动率 "
   ]
  },
  {
   "cell_type": "code",
   "execution_count": 75,
   "id": "f2ea71b1",
   "metadata": {},
   "outputs": [
    {
     "data": {
      "text/plain": [
       "array([336.1 , 339.32, 345.03, 344.32, 343.44, 346.5 , 351.88, 355.2 ,\n",
       "       358.16, 354.54, 356.85, 359.18, 359.9 , 363.13, 358.3 , 350.56,\n",
       "       338.61, 342.62, 342.88, 348.16, 353.21, 349.31, 352.12, 359.56,\n",
       "       360.  , 355.36, 355.76, 352.47, 346.67, 351.99])"
      ]
     },
     "execution_count": 75,
     "metadata": {},
     "output_type": "execute_result"
    }
   ],
   "source": [
    "from numpy import *\n",
    "# 准备股票数据\n",
    "closing_price = [336.1, 339.32, 345.03, 344.32, 343.44, 346.5, \n",
    "                    351.88, 355.2, 358.16, 354.54, 356.85, 359.18,\n",
    "                    359.9, 363.13, 358.3, 350.56, 338.61, 342.62,\n",
    "                    342.88, 348.16, 353.21, 349.31, 352.12, 359.56,\n",
    "                    360.00, 355.36, 355.76, 352.47, 346.67, 351.99]\n",
    "closing_price_arr = array(closing_price)\n",
    "closing_price_arr"
   ]
  },
  {
   "cell_type": "code",
   "execution_count": 71,
   "id": "3b844f87",
   "metadata": {},
   "outputs": [
    {
     "data": {
      "text/plain": [
       "array([0.00958048, 0.01682777, 0.00890985, 0.0155267 , 0.00943503,\n",
       "       0.00833333, 0.00651548, 0.00652935, 0.00200457, 0.00897472,\n",
       "       0.01184253, 0.00075886, 0.01539897, 0.01450483, 0.00804443,\n",
       "       0.02112916, 0.00122372, 0.00112562, 0.01534601])"
      ]
     },
     "execution_count": 71,
     "metadata": {},
     "output_type": "execute_result"
    }
   ],
   "source": [
    "# 计算简单收益率\n",
    "returns = diff(closing_price_arr) / closing_price_arr[:-1]\n",
    "# 查看正的简单收益率\n",
    "returns[where(returns > 0)]"
   ]
  },
  {
   "cell_type": "code",
   "execution_count": 72,
   "id": "34d76b18",
   "metadata": {},
   "outputs": [
    {
     "data": {
      "text/plain": [
       "array([0.00953488, 0.01668775, 0.00887039, 0.01540739, 0.0093908 ,\n",
       "       0.0082988 , 0.00649435, 0.00650813, 0.00200256, 0.00893468,\n",
       "       0.01177296, 0.00075857, 0.01528161, 0.01440064, 0.00801225,\n",
       "       0.02090904, 0.00122297, 0.00112499, 0.01522945])"
      ]
     },
     "execution_count": 72,
     "metadata": {},
     "output_type": "execute_result"
    }
   ],
   "source": [
    "# 计算对数收益率\n",
    "log_returns = diff(log(closing_price_arr))\n",
    "# 查看正的对数收益率\n",
    "log_returns[where(log_returns > 0)]"
   ]
  },
  {
   "cell_type": "code",
   "execution_count": 73,
   "id": "86b3b04b",
   "metadata": {},
   "outputs": [
    {
     "name": "stdout",
     "output_type": "stream",
     "text": [
      "年波动率： 129.27478991115132\n"
     ]
    }
   ],
   "source": [
    "# 计算年波动率\n",
    "annual_volatility = std(log_returns) / mean(log_returns) / sqrt(1/252)\n",
    "print(\"年波动率：\" , annual_volatility)"
   ]
  },
  {
   "cell_type": "code",
   "execution_count": 74,
   "id": "f407c02f",
   "metadata": {},
   "outputs": [
    {
     "name": "stdout",
     "output_type": "stream",
     "text": [
      "月波动率： 37.318417377317765\n"
     ]
    }
   ],
   "source": [
    "# 计算月波动率\n",
    "monthly_volatility = annual_volatility * sqrt(1/12)\n",
    "print(\"月波动率：\" , monthly_volatility)"
   ]
  },
  {
   "cell_type": "code",
   "execution_count": null,
   "id": "907885e0",
   "metadata": {},
   "outputs": [],
   "source": []
  }
 ],
 "metadata": {
  "kernelspec": {
   "display_name": "Python 3 (ipykernel)",
   "language": "python",
   "name": "python3"
  },
  "language_info": {
   "codemirror_mode": {
    "name": "ipython",
    "version": 3
   },
   "file_extension": ".py",
   "mimetype": "text/x-python",
   "name": "python",
   "nbconvert_exporter": "python",
   "pygments_lexer": "ipython3",
   "version": "3.11.5"
  },
  "toc": {
   "base_numbering": 1,
   "nav_menu": {},
   "number_sections": true,
   "sideBar": true,
   "skip_h1_title": false,
   "title_cell": "Table of Contents",
   "title_sidebar": "Contents",
   "toc_cell": false,
   "toc_position": {},
   "toc_section_display": true,
   "toc_window_display": false
  }
 },
 "nbformat": 4,
 "nbformat_minor": 5
}










import pandas as pd
df_obj = pd.DataFrame({'key':['C','B','C','A','B','B','A','C','A']
    ,'num' :[2,4,6,8,10,1,14,16,18]})
df_obj


# 按照key 进行分组

df_gb = df_obj.groupby(by='key')
df_gb
# 显示报错 <pandas.core.groupby.generic.DataFrameGroupBy object at 0x0000018F8A40D4C0>
# 说明其不可直接输出 需要进行遍历输出



for gb in df_gb:
    print(gb)





import pandas as pd
df_obj = pd.DataFrame({'key': ['A', 'A', 'B', 'B', 'C'],
                       'num': [2, 3, 4, 6, 8]})
df_obj


ser_obj = pd.Series(['a', 'b', 'c', 'a', 'b'])
ser_obj


group_obj = df_obj.groupby(by=ser_obj)   # 按Series类的对象进行分组
for i in group_obj:                     # 查看分组的信息
    print(i)


# Series类对象的索引长度小于原对象的行索引长度
ser_diff = pd.Series(['a', 'b', 'a'])   
group_obj = df_obj.groupby(by=ser_diff)
for i in group_obj:           
    print(i)





from pandas import DataFrame
num_df = DataFrame({'a': [1, 2, 3, 4],
                    'b': [5, 6, 7, 8],
                    'c': [9, 10, 11, 12],
                    'd': [13, 14, 15, 16],
                    'e': [17, 18, 19, 20]})
num_df


# 创建一个表示分组标准的字典
group_rule = {'a':'Group_One', 'b':'Group_Two', 'c':'Group_One', 
                'd':'Group_Thr', 'e':'Group_Two'}
group_rule


# 按字典进行分组，并指定沿着列拆分
group_obj = num_df.groupby(group_rule, axis=1)
for i in group_obj:
    print(i)





import pandas as pd
df_obj = pd.DataFrame({'a': [1, 2, 3, 4, 5],
                           'b': [6, 7, 8, 9, 10],
                           'c': [11, 12, 13, 14, 15]},
                           index=['Leo', 'Jack', 'Alice', 'Helen', 'Joe'])
df_obj


group_obj = df_obj.groupby(by=len)   # 按照内置函数len进行分组
for i in group_obj:        
    print(i)





df_gb.groups    # 查看分组的信息


df_gb.get_group('A')     # 获取分组A


df_gb.get_group('B')     # 获取分组B


df_gb.get_group('C')     # 获取分组C








import pandas as pd
import numpy as np
df = pd.DataFrame({'key1': ['A', 'A', 'B', 'B', 'A'],
                   'key2': ['one', 'two', 'one', 'two', 'one'],
                   'data1': [2, 3, 4, 6, 8],
                   'data2': [3, 5, np.nan, 3,7]})
df


group_obj = df.groupby('key1')   
for i in group_obj:
    print(i)


group_obj.mean()       # 计算每个分组的数据的平均数








import numpy as np
from pandas import DataFrame, Series
df_obj = DataFrame(np.arange(36).reshape((6, 6)), columns=list('abcdef'))
df_obj['key'] = Series(list('aaabbb'), name='key')
df_obj


group_obj = df_obj.groupby('key')     
group_obj.get_group('a')               # 获取分组a的信息


group_obj.get_group('b')              # 获取分组b的信息


# 聚合数据，所有列应用一个函数
group_obj.agg(sum)


def my_range(arr):
    return arr.max() - arr.min()


# 聚合数据，所有列应用自定义的函数
group_obj.agg(my_range)





# 聚合数据，所有列应用两个函数
group_obj.agg([sum, my_range]) 


group_obj.agg([('和', sum), ('极差', my_range)])





# 聚合数据，不同列应用不同的函数
group_obj.agg({'a': 'sum', 'b': 'mean', 'c': my_range})








import pandas as pd
df = pd.DataFrame({'A': [2, 3, 3, 4, 2],
                   'B': [4, 2, 3, 6, 6],
                   'C': [9, 7, 0, 7, 8],
                   'D': [3, 4, 8, 6, 10]})
df


key = ['one', 'one', 'two', 'two', 'two']
# 按照key对df对象进行分组
group_obj = df.groupby(key)
# 查看分组one
dict([x for x in group_obj])['one']


# 查看分组two
dict([x for x in group_obj])['two']


# 转换数据，所有列执行求平均数的操作
group_obj.transform('mean')


df['key'] = key   # 增加key列
df


new_df = df.groupby('key').transform('mean')  # 对df对象进行分组、转换操作
new_df





import numpy as np
from pandas import DataFrame, Series
arr = np.arange(1, 17).reshape((8, 2))
df_obj = DataFrame(arr, columns=list('ab'))
df_obj['key'] = ['foo', 'bar', 'foo', 'bar', 'foo', 'bar', 'foo', 'foo']
df_obj


group_obj = df_obj.groupby('key')
dict([x for x in group_obj])['foo']


dict([x for x in group_obj])['bar']


# 展示每个分组的描述性统计信息
group_obj.apply(lambda x: x.describe())








# (1)计算中国男篮、女篮运动员的平均身高与平均体重。
# (2)统计中国篮运动员的年龄分布情况。 
# (3)计算中国篮球运动员的体质指数。





import numpy as np
import pandas as pd
file_one = pd.read_csv('athletes01.csv', encoding='gbk')
file_two = pd.read_excel('athletes02.xlsx')
# 采用外连接的方式合并数据
all_data = pd.merge(left=file_one, right=file_two, how='outer')
# 筛选出国籍属于中国的运动员
all_data = all_data[all_data['国籍'] == '中国']
# 查看摘要信息
all_data.info()








# 检测all_data里面是否有重复值
all_data[all_data.duplicated().values==True]


# 删除all_data的重复值，并重新对数据进行索引
all_data = all_data.drop_duplicates(ignore_index=True)
all_data.head(10)





# 筛选出项目为篮球的运动员
basketball_data = all_data[all_data['项目'] == '篮球']
# 获取“出生日期”一列的数据
basketball_data['出生日期']


import datetime
basketball_data = basketball_data.copy()
# 将以“x”天显示的日期转换成以“x年x月x日”形式显示的日期
initial_time = datetime.datetime.strptime('1900-01-01', "%Y-%m-%d")
for i in basketball_data.loc[:, '出生日期']:
    if type(i) == int:
        new_time = (initial_time + datetime.timedelta(days=i)).strftime('%Y{y}%m{m}%d{d}').format(
            y='年', m='月', d='日')
        basketball_data.loc[:, '出生日期'] = basketball_data.loc[:, '出生日期'].replace(i, new_time)
# 为保证出生日期的一致性，这里统一使用只保留到年份的日期
basketball_data.loc[:, '出生日期'] = basketball_data['出生日期'].apply(lambda x:x[:5])
basketball_data['出生日期'].head(10)


# 筛选男篮球运动员
male_data = basketball_data[basketball_data['性别'].apply(lambda x :x =='男')]
male_data = male_data.copy()
# 计算身高平均值（四舍五入取整)
male_height = male_data['身高'].dropna() 
fill_male_height = round(male_height.apply(lambda x : x[0:-2]).astype(int).mean())
fill_male_height = str(int(fill_male_height)) + '厘米'
# 填充缺失值
male_data.loc[:, '身高'] = male_data.loc[:, '身高'].fillna(fill_male_height)
# 为方便后期使用，这里将身高数据转换为整数
male_data.loc[:, '身高'] = male_data.loc[:, '身高'].apply(lambda x: x[0:-2]).astype(int)
# 重命名列标签索引
male_data.rename(columns={'身高':'身高/cm'}, inplace=True)
male_data


# 筛选女篮球运动员数据
female_data = basketball_data[basketball_data['性别'].apply(lambda x :x =='女')]
female_data = female_data.copy()
data = {'191cm':'191厘米','1米89公分':'189厘米','2.01米':'201厘米',
        '187公分':'187厘米','1.97M':'197厘米','1.98米':'198厘米','192cm':'192厘米'}
female_data.loc[:, '身高'] = female_data.loc[:, '身高'].replace(data)
# 计算女篮球运动员平均身高
female_height = female_data['身高'].dropna()
fill_female_height = round(female_height.apply(lambda x : x[0:-2]).astype(int).mean())
fill_female_height =str(int(fill_female_height)) + '厘米'
# 填充缺失值
female_data.loc[:, '身高'] = female_data.loc[:, '身高'].fillna(fill_female_height)
# 为方便后期使用，这里将身高数据转换为整数
female_data['身高'] = female_data['身高'].apply(lambda x : x[0:-2]).astype(int)
# 重命名列标签索引
female_data.rename(columns={'身高':'身高/cm'}, inplace=True)
female_data


female_data.loc[:, '体重'] = female_data.loc[:, '体重'].replace({'88千克': '88kg'})
female_data


# 采用前向填充的方式，替换体重为 8kg 的值
female_data['体重'].replace(to_replace='8kg', method='pad',inplace=True)
female_data


# 计算女篮球运动员的平均体重
female_weight = female_data['体重'].dropna()
female_weight = female_weight.apply(lambda x :x[0:-2]).astype(int)
fill_female_weight = round(female_weight.mean())
fill_female_weight = str(int(fill_female_weight)) + 'kg'
# 填充缺失值
female_data.loc[:,'体重'].fillna(fill_female_weight, inplace=True)
female_data


basketball_data = pd.concat([male_data, female_data])
basketball_data['体重'] = basketball_data['体重'].apply(lambda x : x[0:-2]).astype(int)
basketball_data.rename(columns={'体重':'体重/kg'}, inplace=True)
basketball_data.head(5)





# 定义基于3σ原则检测的函数
def three_sigma(ser): 
    # 计算平均数
    mean_data = ser.mean()
    # 计算标准差
    std_data = ser.std()
    # 根据数值小于μ-3σ或大于μ+3σ均为异常值
    rule = (mean_data-3*std_data>ser) | (mean_data+3*std_data<ser)
    # 返回异常值的位置索引
    index = np.arange(ser.shape[0])[rule]
    # 获取异常值数据
    outliers = ser.iloc[index]
    return outliers
# 使用3σ原则检测女篮运动员的体重数据
female_data = basketball_data[basketball_data['性别'] == '女']
three_sigma(female_data['体重/kg'])


# 使用3σ原则检测女篮运动员的身高数据
three_sigma(female_data['身高/cm'])


# 使用3σ原则检测男篮运动员的体重数据
male_data = basketball_data[basketball_data['性别'] == '男']
three_sigma(male_data['体重/kg'])


# 使用3σ原则检测男篮运动员的身高数据
three_sigma(male_data['身高/cm'])





# 以性别分组，对各分组执行求平均数操作，并要求平均数保留一位小数
basketball_data.groupby('性别').mean().round(1)





# 根据出生日期计算年龄
ages = 2023 - basketball_data['出生日期'].apply(lambda x : x[0:-1]).astype(int)
bins = [10, 20, 30, 40]
# 增加年龄分组一列
basketball_data['年龄分组'] = pd.cut(ages, bins)
# 对每个分组进行计数并排序
basketball_data['年龄分组'].value_counts().sort_index()





# 增加“体质指数”一列
basketball_data['体质指数'] = 0
basketball_data.head(5)


def ath_bmi(num):
    weight = basketball_data['体重/kg']
    height = basketball_data['身高/cm'] 
    sum_bmi =  weight / (height/100)**2
    return sum_bmi


basketball_data['体质指数'] = basketball_data[['体质指数']].apply(ath_bmi).round(1)
basketball_data


groupby_obj = basketball_data.groupby(by="性别")
females = dict([x for x in groupby_obj])['女']['体质指数'].values
# 统计体质指数为非正常的女篮运动员的数量
count = females[females < 19].size + females[females > 24].size
print(f'体质指数小于19：{females[females < 19]}')
print(f'体质指数大于24：{females[females > 24]}')
print(f'非正常体质范围的总人数：{count}')


males = dict([x for x in groupby_obj])['男']['体质指数'].values
# 统计体质指数为非正常的男篮运动员的数量
count = males[males < 20].size + males[males > 25].size
print(f'体质指数小于20：{males[males < 20]}')
print(f'体质指数大于25：{males[males > 25]}')
print(f'非正常体质范围的总人数：{count}')




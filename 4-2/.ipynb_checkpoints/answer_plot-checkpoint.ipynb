{
 "cells": [
  {
   "cell_type": "code",
   "execution_count": 13,
   "id": "0e803eb2-ac1a-426e-bad1-51441dd161ac",
   "metadata": {},
   "outputs": [
    {
     "name": "stdout",
     "output_type": "stream",
     "text": [
      "<Worksheet \"Task1\">\n"
     ]
    }
   ],
   "source": [
    "import matplotlib.pyplot as plt\n",
    "import numpy as np\n",
    "import pandas as pd\n",
    "import openpyxl as oxl\n",
    "import datetime\n",
    "\n",
    "def trans() :\n",
    "    list_num = []\n",
    "\n",
    "\n",
    "workBook = oxl.load_workbook('./Assignment8.xlsx')\n",
    "task1 = workBook['Task1']\n",
    "\n",
    "\n",
    "\n",
    "\n",
    "\n",
    "\n",
    "\n",
    "\n",
    "\n",
    "\n"
   ]
  },
  {
   "cell_type": "code",
   "execution_count": null,
   "id": "e3c2fd54-e3a3-485d-84d1-0c09f8e5a55d",
   "metadata": {},
   "outputs": [],
   "source": [
    "task2 = workBook['Task2']\n",
    "\n",
    "\n"
   ]
  },
  {
   "cell_type": "code",
   "execution_count": null,
   "id": "51ab1df0-f950-4716-8314-1e7bbe6fc1ca",
   "metadata": {},
   "outputs": [],
   "source": [
    "task3 = workBook['Task3']\n"
   ]
  },
  {
   "cell_type": "code",
   "execution_count": null,
   "id": "a35bbdaf-8f15-4d22-ab6c-b636b1e1887b",
   "metadata": {},
   "outputs": [],
   "source": [
    "task4 = workBook['Task4']\n"
   ]
  },
  {
   "cell_type": "code",
   "execution_count": null,
   "id": "9719decc-438d-4885-aece-1a3301a5db0d",
   "metadata": {},
   "outputs": [],
   "source": [
    "task5 = workBook['Task5']\n"
   ]
  },
  {
   "cell_type": "code",
   "execution_count": null,
   "id": "f440b010-981c-4f6f-9ad7-341de1fe7e3e",
   "metadata": {},
   "outputs": [],
   "source": [
    "task6 = workBook['Task6']\n"
   ]
  }
 ],
 "metadata": {
  "kernelspec": {
   "display_name": "Python 3 (ipykernel)",
   "language": "python",
   "name": "python3"
  },
  "language_info": {
   "codemirror_mode": {
    "name": "ipython",
    "version": 3
   },
   "file_extension": ".py",
   "mimetype": "text/x-python",
   "name": "python",
   "nbconvert_exporter": "python",
   "pygments_lexer": "ipython3",
   "version": "3.12.5"
  }
 },
 "nbformat": 4,
 "nbformat_minor": 5
}
